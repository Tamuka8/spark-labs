{
 "cells": [
  {
   "cell_type": "markdown",
   "metadata": {},
   "source": [
    "# Lab 3.2 : PySpark CORE APIs"
   ]
  },
  {
   "cell_type": "code",
   "execution_count": null,
   "metadata": {},
   "outputs": [],
   "source": [
    "try:\n",
    "    spark\n",
    "except NameError:\n",
    "    # initialize Spark Session\n",
    "    import os\n",
    "    import sys\n",
    "    top_dir = os.path.abspath(os.path.join(os.getcwd(), \"../\"))\n",
    "    if top_dir not in sys.path:\n",
    "        sys.path.append(top_dir)\n",
    "\n",
    "    from init_spark import init_spark\n",
    "    spark = init_spark()\n",
    "\n",
    "print('Spark UI running on port ' + spark.sparkContext.uiWebUrl.split(':')[2])\n",
    "spark"
   ]
  },
  {
   "cell_type": "markdown",
   "metadata": {},
   "source": [
    "## Step 1 - Load sample file"
   ]
  },
  {
   "cell_type": "code",
   "execution_count": null,
   "metadata": {},
   "outputs": [],
   "source": [
    "f = spark.read.text(\"../data/text/twinkle/sample.txt\")\n",
    "\n",
    "## for cloud accounts use this\n",
    "#f = spark.read.text(\"s3://elephantscale-public/data/text/twinkle/sample.txt\")\n",
    "#f = spark.read.text(\"https://raw.githubusercontent.com/elephantscale/datasets/master/text/twinkle/sample.txt\")\n",
    "\n",
    "print (f)"
   ]
  },
  {
   "cell_type": "markdown",
   "metadata": {},
   "source": [
    "After executing the above...  \n",
    "\n",
    "**=> Goto Spark shell UI (4040+)**  \n",
    "**=> Inspect the 'Jobs'  and 'Stages' section in the UI.**  \n",
    "**=> How is the filter executed? Can you explain the behavior?**  \n"
   ]
  },
  {
   "cell_type": "code",
   "execution_count": null,
   "metadata": {},
   "outputs": [],
   "source": [
    "print(f.count())\n",
    "f.show()"
   ]
  },
  {
   "cell_type": "markdown",
   "metadata": {},
   "source": [
    "**==> Now do you see jobs executed in the Spark UI?**"
   ]
  },
  {
   "cell_type": "markdown",
   "metadata": {},
   "source": [
    "## Step 2 - Filter\n",
    "\n",
    "Note we are referring to 'value'"
   ]
  },
  {
   "cell_type": "code",
   "execution_count": null,
   "metadata": {},
   "outputs": [],
   "source": [
    "# both f.value and f[\"value\"] will work\n",
    "# later version recommended\n",
    "\n",
    "filtered = f.filter(f.value.contains(\"twinkle\"))\n",
    "filtered = f.filter(f[\"value\"].contains(\"twinkle\"))"
   ]
  },
  {
   "cell_type": "markdown",
   "metadata": {},
   "source": [
    "**==> Are filters executed yet?**"
   ]
  },
  {
   "cell_type": "code",
   "execution_count": null,
   "metadata": {},
   "outputs": [],
   "source": [
    "print(filtered.count())\n",
    "filtered.show()"
   ]
  },
  {
   "cell_type": "markdown",
   "metadata": {},
   "source": [
    "**==>How about now?**"
   ]
  },
  {
   "cell_type": "markdown",
   "metadata": {},
   "source": [
    "## Step 3 - See the DAG visualizations\n",
    "\n",
    "<img src=\"../assets/images/3.1c.png\" style=\"border: 5px solid grey; max-width:100%;\"/>\n"
   ]
  },
  {
   "cell_type": "markdown",
   "metadata": {},
   "source": [
    "## Step 4 - Generate Large Dataset"
   ]
  },
  {
   "cell_type": "code",
   "execution_count": null,
   "metadata": {},
   "outputs": [],
   "source": [
    "# this works on native spark install\n",
    "\n",
    "! echo \"creating data...\"\n",
    "\n",
    "! [ ! -r ../data/text/twinkle/500M.data ] && cd  ../data/text/twinkle &&   ./create-data-files.sh\n",
    "\n",
    "! echo \"DONE\"\n",
    "\n",
    "! ls -lSrh ../data/text/twinkle\n",
    "# sorted by size (smallest --> largest)"
   ]
  },
  {
   "cell_type": "markdown",
   "metadata": {},
   "source": [
    "## Step 5 - Load larger dataset"
   ]
  },
  {
   "cell_type": "code",
   "execution_count": null,
   "metadata": {},
   "outputs": [],
   "source": [
    "f = spark.read.text(\"../data/text/twinkle/100M.data\")\n",
    "\n",
    "## for cloud accounts use this\n",
    "#f = spark.read.text(\"s3://elephantscale-public/data/text/twinkle/100M.data\")\n",
    "\n",
    "\n",
    "print (f.count())\n",
    "f.show()"
   ]
  },
  {
   "cell_type": "markdown",
   "metadata": {},
   "source": [
    "### Discussion\n",
    "\n",
    "- Inspect the 'count' job\n",
    "- How many tasks?  Can you explain the number of tasks?\n",
    "- how many stages?  Can you explain?\n",
    "- drill into into the count stage.  \n",
    "   - How many tasks are operating?  Can you explain?\n",
    "   - look at the data size for each task\n",
    "   - how long each task is running?"
   ]
  },
  {
   "cell_type": "markdown",
   "metadata": {},
   "source": [
    "## Step 6 - Inspect Job Details\n",
    "How many tasks were allocated to the latest job?  Can you figure out why?  \n",
    "Hint : get number of partitions"
   ]
  },
  {
   "cell_type": "code",
   "execution_count": null,
   "metadata": {},
   "outputs": [],
   "source": [
    "f.rdd.getNumPartitions()"
   ]
  },
  {
   "cell_type": "markdown",
   "metadata": {},
   "source": [
    "## Step 7 - Save filtered data"
   ]
  },
  {
   "cell_type": "code",
   "execution_count": null,
   "metadata": {},
   "outputs": [],
   "source": [
    "f = spark.read.text(\"../data/text/twinkle/100M.data\")\n",
    "\n",
    "## for cloud accounts use this\n",
    "#f = spark.read.text(\"s3://elephantscale-public/data/text/twinkle/100M.data\")\n",
    "\n",
    "print (\"f.count : \", f.count() )\n",
    "\n",
    "filtered = f.filter(f[\"value\"].contains(\"twinkle\"))\n",
    "\n",
    "print (\"filtered.count : \", filtered.count())\n",
    "\n",
    "filtered.write.mode('overwrite').text(\"out2\")\n",
    "print ('done')"
   ]
  },
  {
   "cell_type": "code",
   "execution_count": null,
   "metadata": {},
   "outputs": [],
   "source": [
    "## TODO : inspect the output dir\n",
    "# What do you see?\n",
    "\n",
    "! ls -lh out2"
   ]
  },
  {
   "cell_type": "markdown",
   "metadata": {},
   "source": [
    "### Discussion\n",
    "- Explain the nubmer of files\n",
    "- Explain about `_SUCCESS`  file"
   ]
  },
  {
   "cell_type": "markdown",
   "metadata": {},
   "source": [
    "## Step 8 - Bonus  -  Merging multiple partitions into ONE\n",
    "When we saved data in the above section, there are multiple files created in output directory. Can you just create one output file?\n",
    "\n",
    "Hint : see the API for `coalesce` or `repartition`"
   ]
  },
  {
   "cell_type": "code",
   "execution_count": null,
   "metadata": {},
   "outputs": [],
   "source": [
    "## TODO : how many partitions do we want?\n",
    "## HINT : start with 1\n",
    "num_partitions = ???\n",
    "x = filtered.repartition(num_partitions)\n",
    "x.write.mode('overwrite').text(\"out3\")\n",
    "\n",
    "# you can also do it all in one line\n",
    "# f.repartition(1).write.mode('overwrite').text(\"out3\")"
   ]
  },
  {
   "cell_type": "code",
   "execution_count": null,
   "metadata": {},
   "outputs": [],
   "source": [
    "## inspect the output dir\n",
    "## how many files do you see?\n",
    "! ls -lh out3"
   ]
  },
  {
   "cell_type": "markdown",
   "metadata": {},
   "source": [
    "## Class Discussion\n",
    "\n",
    "Instructor please do a detailed walk through the Spark UI.  Explain the following\n",
    "- Jobs UI\n",
    "- Jobs --> Stages drill down\n",
    "- Understanding **dataflow**  (explain input/output/shuffle datasizes)\n",
    "- **Task level analysis**  (time taken, data read, written, shuffled)\n",
    "- Expand the **event timeline** at Stage UI and explain what is going on\n",
    "\n",
    "## Questions for the Class\n",
    "\n",
    "Plesae tell me how you will debug the following issues:\n",
    "\n",
    "### Long running job\n",
    "\n",
    "A Spark job used run in 20 minutes.  Now it takes 1hr+.  \n",
    "- What could be the causes?\n",
    "- How can you debug and isolate the cause?\n",
    "\n",
    "\n",
    "### Job running out of memory\n",
    "\n",
    "After a recent update, a job started crashing with 'Out of Memory'.  You are tasked to find out what is going on.  How will you approach this.\n",
    "\n",
    "### Isoloating a 'slow' machine\n",
    "\n",
    "You suspect your program is running slowly, due to hardware issue on a machine in the cluster of 10 machines.  \n",
    "How do you isolate the machine that is causing the slowdown?"
   ]
  },
  {
   "cell_type": "code",
   "execution_count": null,
   "metadata": {},
   "outputs": [],
   "source": []
  }
 ],
 "metadata": {
  "kernelspec": {
   "display_name": "Python 3 (ipykernel)",
   "language": "python",
   "name": "python3"
  },
  "language_info": {
   "codemirror_mode": {
    "name": "ipython",
    "version": 3
   },
   "file_extension": ".py",
   "mimetype": "text/x-python",
   "name": "python",
   "nbconvert_exporter": "python",
   "pygments_lexer": "ipython3",
   "version": "3.8.13"
  }
 },
 "nbformat": 4,
 "nbformat_minor": 4
}
