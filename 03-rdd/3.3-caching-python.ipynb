{
 "cells": [
  {
   "cell_type": "markdown",
   "metadata": {},
   "source": [
    "# Lab 3.3 :  Caching\n",
    "\n",
    "### Overview\n",
    "Understanding Spark caching\n",
    "\n",
    "### Depends On \n",
    "None\n",
    "\n",
    "### Run time\n",
    "15-20 mins\n"
   ]
  },
  {
   "cell_type": "markdown",
   "metadata": {},
   "source": [
    "## Step 1: Generate 'Large' data set\n",
    "If you haven't generated the large data earlier, you can do so here."
   ]
  },
  {
   "cell_type": "code",
   "execution_count": null,
   "metadata": {},
   "outputs": [],
   "source": [
    "! ls -lSrh ../data/text/twinkle\n",
    "# sorted by size (smallest --> largest)"
   ]
  },
  {
   "cell_type": "markdown",
   "metadata": {},
   "source": [
    "If the above command does not show generated data, use the command below to generate data"
   ]
  },
  {
   "cell_type": "code",
   "execution_count": null,
   "metadata": {},
   "outputs": [],
   "source": [
    "! echo \"creating data...\"\n",
    "\n",
    "! [ ! -r ../data/text/twinkle/500M.data ] && cd  ../data/text/twinkle &&   ./create-data-files.sh\n",
    "\n",
    "! echo \"DONE\"\n",
    "\n",
    "! ls -lSrh ../data/text/twinkle\n",
    "# sorted by size (smallest --> largest)"
   ]
  },
  {
   "cell_type": "markdown",
   "metadata": {},
   "source": [
    "## Step 2 - Init Spark"
   ]
  },
  {
   "cell_type": "code",
   "execution_count": null,
   "metadata": {},
   "outputs": [],
   "source": [
    "try:\n",
    "    spark\n",
    "except NameError:\n",
    "    # initialize Spark Session\n",
    "    import os\n",
    "    import sys\n",
    "    top_dir = os.path.abspath(os.path.join(os.getcwd(), \"../\"))\n",
    "    if top_dir not in sys.path:\n",
    "        sys.path.append(top_dir)\n",
    "\n",
    "    from init_spark import init_spark\n",
    "    spark = init_spark()\n",
    "\n",
    "print('Spark UI running on port ' + spark.sparkContext.uiWebUrl.split(':')[2])\n",
    "spark"
   ]
  },
  {
   "cell_type": "markdown",
   "metadata": {},
   "source": [
    "## STEP 3: Recording Caching times\n",
    "### Download and inspect the Excel worksheet : [caching-worksheet](caching-worksheet.xlsx). \n",
    "- On the Jupyter file browser locate the worksheet under __`~/dev/spark-labs/03-rdd/`__ directory\n",
    "- Right click on the __`caching-worksheet.xlsx`__ and select download\n",
    "\n",
    "We are going to fill in the values here to understand how caching performs.\n",
    "\n",
    "It looks like this:\n",
    "<img src=\"../assets/images/3.6a.png\" style=\"border: 5px solid grey; max-width:100%;\"/>\n",
    "\n",
    "\n",
    "## STEP 4: Load Data\n",
    "\n",
    "Load a big file (e.g 500M.data)"
   ]
  },
  {
   "cell_type": "code",
   "execution_count": null,
   "metadata": {},
   "outputs": [],
   "source": [
    "f = spark.read.text(\"../data/text/twinkle/500M.data\")\n",
    "\n",
    "## for cloud accounts use this\n",
    "# f = spark.read.text(\"s3://elephantscale-public/data/text/twinkle/500M.data\")\n",
    "# f = spark.read.text(\"https://elephantscale-public.s3.amazonaws.com/data/text/twinkle/500M.data\")\n",
    "\n",
    "print(\"read file \", f)"
   ]
  },
  {
   "cell_type": "markdown",
   "metadata": {},
   "source": [
    "**=> Count the number of lines in this file**    "
   ]
  },
  {
   "cell_type": "code",
   "execution_count": null,
   "metadata": {},
   "outputs": [],
   "source": [
    "%%time\n",
    "\n",
    "print(f.count())\n",
    "\n",
    "# output might look like\n",
    "# Job 1 finished: count at <console>:30, took __3.792822__ s"
   ]
  },
  {
   "cell_type": "markdown",
   "metadata": {},
   "source": [
    "**=> Observe time taken on Spark UI**  \n",
    "**=> Record the time in spread sheet**  \n",
    "**=> Run 'count' below a couple of times and observe the time**  \n",
    "**=> Can you explain the behavior of count() execution time ?**"
   ]
  },
  {
   "cell_type": "code",
   "execution_count": null,
   "metadata": {},
   "outputs": [],
   "source": [
    "%%time\n",
    "\n",
    "print (f.count())\n"
   ]
  },
  {
   "cell_type": "code",
   "execution_count": null,
   "metadata": {},
   "outputs": [],
   "source": [
    "%%time\n",
    "\n",
    "print (f.count())"
   ]
  },
  {
   "cell_type": "markdown",
   "metadata": {},
   "source": [
    "\n",
    "## STEP 5:  Cache\n",
    "\n",
    "**=> Cache the file using  `cache()` action.**"
   ]
  },
  {
   "cell_type": "code",
   "execution_count": null,
   "metadata": {},
   "outputs": [],
   "source": [
    "%%time \n",
    "\n",
    "f.cache()\n",
    "print (\"done caching\")"
   ]
  },
  {
   "cell_type": "markdown",
   "metadata": {},
   "source": [
    "**=> Run the `count()` again. Notice the time.   Can you explain this behavior ?  :-)** "
   ]
  },
  {
   "cell_type": "code",
   "execution_count": null,
   "metadata": {},
   "outputs": [],
   "source": [
    "%%time\n",
    "\n",
    "print (f.count())"
   ]
  },
  {
   "cell_type": "markdown",
   "metadata": {},
   "source": [
    "**=> Run count() a few more times and note the execution times.**  \n",
    "**=> Record the time in spreadsheet.**  \n",
    "**=> Do the timings make sense?** "
   ]
  },
  {
   "cell_type": "code",
   "execution_count": null,
   "metadata": {},
   "outputs": [],
   "source": [
    "%%time\n",
    "\n",
    "print (f.count())"
   ]
  },
  {
   "cell_type": "code",
   "execution_count": null,
   "metadata": {},
   "outputs": [],
   "source": [
    "%%time\n",
    "\n",
    "print (f.count())"
   ]
  },
  {
   "cell_type": "markdown",
   "metadata": {},
   "source": [
    "### Discussions\n",
    "\n",
    "- if you are reading the data only twice, is caching worth the cost?\n",
    "- What is the **minimal number of times** you have to reuse the data for caching to be worth it?"
   ]
  },
  {
   "cell_type": "markdown",
   "metadata": {},
   "source": [
    "## STEP 6:  Understanding Cache storage\n",
    "\n",
    "Go to spark shell UI @ port 4040+\n",
    "\n",
    "**=> Inspect 'storage' tab**  \n",
    "\n",
    "<img src=\"../assets/images/caching-2.png\" style=\"border: 5px solid grey; max-width:100%;\"/>\n",
    "\n",
    "### Questions\n",
    "\n",
    "**=> Can you see the cached data?  What is the memory size?**  \n",
    "**=> Can you explain the behavior?**\n",
    "\n"
   ]
  },
  {
   "cell_type": "markdown",
   "metadata": {},
   "source": [
    "## Step 7 : Caching Binary Data\n",
    "\n",
    "Let's see how binary data caching is handled"
   ]
  },
  {
   "cell_type": "code",
   "execution_count": null,
   "metadata": {},
   "outputs": [],
   "source": [
    "## Create some random data\n",
    "print(\"creating 100M random data\")\n",
    "!dd if=/dev/urandom of=/data/100M-rand  bs=1M count=100\n",
    "print(\"done\")"
   ]
  },
  {
   "cell_type": "code",
   "execution_count": null,
   "metadata": {
    "attributes": {
     "classes": [
      "scala"
     ],
     "id": ""
    }
   },
   "outputs": [],
   "source": [
    "df  = spark.read.text(\"../data/100M-rand\")\n",
    "df.cache()\n",
    "print(\"df count \", df.count())"
   ]
  },
  {
   "cell_type": "markdown",
   "metadata": {},
   "source": [
    "Now check the 'Storage' tab in Spark Shell UI (port 4040).  \n",
    "\n",
    "Here is a sample output.\n",
    "\n",
    "<img src=\"../assets/images/caching-3.png\" style=\"border: 5px solid grey; max-width:100%;\"/>\n",
    "\n",
    "### Discussion\n",
    "\n",
    "**==> Discuss your findings**\n",
    "\n",
    "\n",
    "\n",
    "## Step 8 : Reducing memory footprint \n",
    "\n",
    "There are various levels of memory caching.  Here are a couple:  \n",
    "\n",
    "* Raw caching (`data.persist(org.apache.spark.storage.StorageLevel.MEMORY_ONLY)`)  \n",
    "* Serialized Caching (`data.persist(org.apache.spark.storage.StorageLevel.MEMORY_ONLY_SER)`)\n",
    "\n",
    "\n",
    "**=> Try both options `f.persist(....)` .  Monitor memory consumption in storage tab**\n",
    "\n",
    "**Note: Caching level can not be changed after an RDD cached.  You have to 'uncache / unpersist' the RDD and then cache it again**"
   ]
  },
  {
   "cell_type": "code",
   "execution_count": null,
   "metadata": {
    "attributes": {
     "classes": [
      "scala"
     ],
     "id": ""
    }
   },
   "outputs": [],
   "source": [
    "import pyspark\n",
    "\n",
    "data = spark.read.text(\"../data/text/twinkle/500M.data\")\n",
    "## for cloud accounts use this\n",
    "# f = spark.read.text(\"s3://elephantscale-public/data/text/twinkle/500M.data\")\n",
    "\n",
    "data.persist(pyspark.StorageLevel.MEMORY_ONLY) # same as data.cache()\n",
    "## TODO :  measure the storage footprint using 'storage' tab"
   ]
  },
  {
   "cell_type": "code",
   "execution_count": null,
   "metadata": {},
   "outputs": [],
   "source": [
    "data.unpersist()\n",
    "## TODO :  measure the storage footprint using 'storage' tab"
   ]
  },
  {
   "cell_type": "markdown",
   "metadata": {},
   "source": [
    "### Group discussion\n",
    "\n",
    "* mechanics of caching\n",
    "* implications of caching vs memory\n",
    "\n",
    "### Further Reading\n",
    "\n",
    "* [Understanding Spark Caching by Sujee Maniyam](http://sujee.net/2015/01/22/understanding-spark-caching/)"
   ]
  }
 ],
 "metadata": {
  "kernelspec": {
   "display_name": "Python 3 (ipykernel)",
   "language": "python",
   "name": "python3"
  },
  "language_info": {
   "codemirror_mode": {
    "name": "ipython",
    "version": 3
   },
   "file_extension": ".py",
   "mimetype": "text/x-python",
   "name": "python",
   "nbconvert_exporter": "python",
   "pygments_lexer": "ipython3",
   "version": "3.8.13"
  }
 },
 "nbformat": 4,
 "nbformat_minor": 4
}
