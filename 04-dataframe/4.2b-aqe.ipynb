{
 "cells": [
  {
   "cell_type": "markdown",
   "metadata": {},
   "source": [
    "# Lab : Spark AQE\n",
    "\n",
    "Experiment with Spark Adaptive Query Engine\n",
    "\n",
    "Refereces:\n",
    "- http://blog.madhukaraphatak.com/spark-aqe-part-2/\n",
    "- https://databricks.com/blog/2020/05/29/adaptive-query-execution-speeding-up-spark-sql-at-runtime.html\n",
    "- https://docs.databricks.com/spark/latest/spark-sql/aqe.html\n",
    "- https://docs.databricks.com/_static/notebooks/aqe-demo.html\n",
    "- https://spark.apache.org/docs/latest/sql-performance-tuning.html#adaptive-query-execution"
   ]
  },
  {
   "cell_type": "markdown",
   "metadata": {},
   "source": [
    "## Step-1: Enable AQE in Spark Config\n",
    "\n",
    "By default AQE is not on.  Turn it on by setting `spark.sql.adaptive.enabled=true` in Spark config"
   ]
  },
  {
   "cell_type": "code",
   "execution_count": null,
   "metadata": {},
   "outputs": [],
   "source": [
    "import findspark\n",
    "findspark.init()  # uses SPARK_HOME\n",
    "print(\"Spark found in : \", findspark.find())\n",
    "\n",
    "import pyspark\n",
    "from pyspark import SparkConf\n",
    "from pyspark.sql import SparkSession\n",
    "\n",
    "\n",
    "\n",
    "# use a unique tmep dir for warehouse dir, so we can run multiple spark sessions in one dir\n",
    "import tempfile\n",
    "tmpdir = tempfile.TemporaryDirectory()\n",
    "\n",
    "config = ( SparkConf()\n",
    "         .setAppName(\"TestApp\")\n",
    "         .setMaster(\"local[*]\")\n",
    "         #.setMaster(\"spark://f96e0987354e:7077\")\n",
    "         .set('executor.memory', '2g')\n",
    "         .set('spark.sql.warehouse.dir', tmpdir.name)\n",
    "         .set('spark.sql.adaptive.enabled', 'true')\n",
    "         .set('spark.sql.adaptive.coalescePartitions.enabled', 'true')\n",
    "         )\n",
    "\n",
    "print(\"Spark config:\\n\\t\", config.toDebugString().replace(\"\\n\", \"\\n\\t\"))\n",
    "spark = SparkSession.builder.config(conf=config).getOrCreate()\n",
    "print('Spark UI running on port ' + spark.sparkContext.uiWebUrl.split(':')[2])"
   ]
  },
  {
   "cell_type": "code",
   "execution_count": null,
   "metadata": {},
   "outputs": [],
   "source": [
    "# check if AQE is enabled\n",
    "spark.conf.get('spark.sql.adaptive.enabled')\n",
    "\n",
    "# spark.conf.set('spark.sql.adaptive.coalescePartitions.minPartitionNum', 1)"
   ]
  },
  {
   "cell_type": "markdown",
   "metadata": {},
   "source": [
    "### Verify in Spark App UI\n",
    "\n",
    "Check the **environment** tab to see if Adaptive mode is turned on.\n",
    "\n",
    "![](../assets/images/aqe-4.png)"
   ]
  },
  {
   "cell_type": "markdown",
   "metadata": {},
   "source": [
    "## Step-2: Generate some large data\n",
    "\n",
    "We will generate some clickstream data"
   ]
  },
  {
   "cell_type": "code",
   "execution_count": null,
   "metadata": {},
   "outputs": [],
   "source": [
    "%%time \n",
    "# generate large clickstream data\n",
    "\n",
    "\n",
    "! [ ! -d /data/click-stream/json/ ] && cd /data/click-stream  && python gen-clickstream-json.py \n",
    "\n",
    "! ls -lh  /data/click-stream/json/"
   ]
  },
  {
   "cell_type": "markdown",
   "metadata": {},
   "source": [
    "## Step-3: Load Data"
   ]
  },
  {
   "cell_type": "code",
   "execution_count": null,
   "metadata": {},
   "outputs": [],
   "source": [
    "%%time\n",
    "\n",
    "# # load clickstream json -- this is a large table about 1.4 GB in size\n",
    "clickstream = spark.read.json(\"../data/click-stream/json/\")\n",
    "\n",
    "## The folowing is to test 'spark.sql.adaptive.coalescePartitions.enabled' optimization\n",
    "## we are creating too many small partitions\n",
    "# clickstream = spark.read.json(\"../data/click-stream/json/\").repartition(500)\n",
    "\n",
    "print (\"Partitions # : \", clickstream.rdd.getNumPartitions())"
   ]
  },
  {
   "cell_type": "markdown",
   "metadata": {},
   "source": [
    "## Step-4: Query"
   ]
  },
  {
   "cell_type": "code",
   "execution_count": null,
   "metadata": {},
   "outputs": [],
   "source": [
    "clickstream.createOrReplaceTempView(\"clickstream\")"
   ]
  },
  {
   "cell_type": "code",
   "execution_count": null,
   "metadata": {},
   "outputs": [],
   "source": [
    "s = \"\"\"\n",
    "select domain, count(*) total\n",
    "from clickstream\n",
    "where cost > 100\n",
    "group by domain\n",
    "order by total DESC\n",
    "\"\"\""
   ]
  },
  {
   "cell_type": "markdown",
   "metadata": {},
   "source": [
    "## Step-5: See Exeucution Plan\n",
    "\n",
    "you will see **AdaptiveSparkPlan** implying that AQE is active.\n",
    "\n",
    "And notice also **isFinalPlan=false**\n",
    "\n",
    "```text\n",
    "== Physical Plan ==\n",
    "AdaptiveSparkPlan isFinalPlan=false\n",
    "```"
   ]
  },
  {
   "cell_type": "code",
   "execution_count": null,
   "metadata": {},
   "outputs": [],
   "source": [
    "spark.sql(s).explain(extended=True)"
   ]
  },
  {
   "cell_type": "markdown",
   "metadata": {},
   "source": [
    "## Step-6: Execute Query"
   ]
  },
  {
   "cell_type": "code",
   "execution_count": null,
   "metadata": {},
   "outputs": [],
   "source": [
    "spark.sql(s).show()"
   ]
  },
  {
   "cell_type": "markdown",
   "metadata": {},
   "source": [
    "## Step-7: Inspect Spark Application UI (SQL Tab)\n",
    "\n",
    "In the query, expand **Details** tab in the bottom.\n",
    "\n",
    "**==>Compare the initial plan and final plan.**\n",
    "\n",
    "![](../assets/images/dataframe-7-sql.png)\n",
    "\n",
    "![](../assets/images/aqe-2-final-plan.png)"
   ]
  },
  {
   "cell_type": "markdown",
   "metadata": {},
   "source": [
    "## Step-8: Experiment\n",
    "\n",
    "We can test if AQE can handle too many small partitions.  This is controlled by `spark.sql.adaptive.coalescePartitions.enabled` property.\n",
    "\n",
    "On step-3: loading data, change it as follows.\n",
    "\n",
    "```python\n",
    "clickstream = spark.read.json(\"../data/click-stream/json/\").repartition(500)\n",
    "```\n",
    "\n",
    "Here, we are creating 500 partitions (too many and too small)\n",
    "\n",
    "And rerun the notebook by **Kernel --> restart kernel and run all cells**\n",
    "\n",
    "Inspect the query on SQL tab.\n",
    "\n",
    "Search for 'partition' keyword.  You will see how the partitions are being changed.\n",
    "\n",
    "![](../assets/images/aqe-3-partitions.png)"
   ]
  },
  {
   "cell_type": "code",
   "execution_count": null,
   "metadata": {},
   "outputs": [],
   "source": []
  }
 ],
 "metadata": {
  "kernelspec": {
   "display_name": "Python 3 (ipykernel)",
   "language": "python",
   "name": "python3"
  },
  "language_info": {
   "codemirror_mode": {
    "name": "ipython",
    "version": 3
   },
   "file_extension": ".py",
   "mimetype": "text/x-python",
   "name": "python",
   "nbconvert_exporter": "python",
   "pygments_lexer": "ipython3",
   "version": "3.8.13"
  }
 },
 "nbformat": 4,
 "nbformat_minor": 4
}
