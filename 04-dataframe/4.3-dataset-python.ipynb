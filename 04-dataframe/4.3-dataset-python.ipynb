{
 "cells": [
  {
   "cell_type": "markdown",
   "metadata": {},
   "source": [
    "<link rel='stylesheet' href='../assets/css/main.css'/>\n",
    "\n",
    "[<< back to main index](../README.md)\n",
    "\n",
    "# Lab 4.3 : Dataset\n",
    "\n",
    "\n",
    "\n",
    "### Overview\n",
    "Using Spark Dataset API  \n",
    "\n",
    "### Depends On \n",
    "None\n",
    "\n",
    "### Run time\n",
    "20-30 mins\n"
   ]
  },
  {
   "cell_type": "code",
   "execution_count": null,
   "metadata": {
    "collapsed": true
   },
   "outputs": [],
   "source": [
    "print('Spark UI running on http://YOURIPADDRESS:' + sc.uiWebUrl.split(':')[2])"
   ]
  },
  {
   "cell_type": "markdown",
   "metadata": {},
   "source": [
    "## STEP 1: Data\n",
    "Here is  [/data/people/people2.csv](/data/people/people2.csv)\n",
    "```\n",
    "name,gender,age\n",
    "John,M,35\n",
    "Jane,F,40\n",
    "Mike,M,18\n",
    "Sue,F,19\n",
    "```"
   ]
  },
  {
   "cell_type": "markdown",
   "metadata": {},
   "source": [
    "## Step 2: Use CSV Reader"
   ]
  },
  {
   "cell_type": "code",
   "execution_count": null,
   "metadata": {
    "collapsed": true
   },
   "outputs": [],
   "source": [
    "peopleDF = spark.read.\\\n",
    "           option(\"header\", \"true\").\\\n",
    "           option(\"inferSchema\", \"true\").\\\n",
    "           csv(\"/data/people/people2.csv\")\n",
    "print(peopleDF)\n",
    "peopleDF.printSchema()"
   ]
  },
  {
   "cell_type": "markdown",
   "metadata": {},
   "source": [
    "## Step 3: Queries\n",
    "**==> Find people who are over 30 years old**"
   ]
  },
  {
   "cell_type": "code",
   "execution_count": null,
   "metadata": {
    "collapsed": true
   },
   "outputs": [],
   "source": [
    "## hint: age\n",
    "peopleDF.filter(\"??? > 30\").show()"
   ]
  },
  {
   "cell_type": "markdown",
   "metadata": {},
   "source": [
    "**==> Display people by their age**"
   ]
  },
  {
   "cell_type": "code",
   "execution_count": null,
   "metadata": {
    "collapsed": true
   },
   "outputs": [],
   "source": [
    "# hint : age\n",
    "peopleDF.orderBy(\"???\").show()\n"
   ]
  },
  {
   "cell_type": "code",
   "execution_count": null,
   "metadata": {
    "collapsed": true
   },
   "outputs": [],
   "source": [
    "\n",
    "# descending order\n",
    "peopleDF.orderBy(\"???\", ascending=False).show()"
   ]
  },
  {
   "cell_type": "markdown",
   "metadata": {},
   "source": [
    "## Step 4: Specify Schema"
   ]
  },
  {
   "cell_type": "code",
   "execution_count": null,
   "metadata": {
    "collapsed": true
   },
   "outputs": [],
   "source": [
    "from pyspark.sql.types import *\n",
    "\n",
    "nameField = StructField(\"name\", StringType(), True)\n",
    "genderField = StructField(\"gender\", StringType(), True)\n",
    "ageField = StructField(\"age\", IntegerType(), True)\n",
    "\n",
    "my_schema = StructType([nameField, genderField, ageField])\n",
    "\n",
    "p = spark.read.option(\"header\", \"true\").schema(my_schema).csv(\"/data/people/people2.csv\")\n",
    "p.printSchema()\n",
    "p.show()"
   ]
  },
  {
   "cell_type": "code",
   "execution_count": null,
   "metadata": {
    "collapsed": true
   },
   "outputs": [],
   "source": []
  }
 ],
 "metadata": {
  "kernelspec": {
   "display_name": "Python 3",
   "language": "python",
   "name": "python3"
  },
  "language_info": {
   "codemirror_mode": {
    "name": "ipython",
    "version": 3
   },
   "file_extension": ".py",
   "mimetype": "text/x-python",
   "name": "python",
   "nbconvert_exporter": "python",
   "pygments_lexer": "ipython3",
   "version": "3.6.3"
  }
 },
 "nbformat": 4,
 "nbformat_minor": 1
}
