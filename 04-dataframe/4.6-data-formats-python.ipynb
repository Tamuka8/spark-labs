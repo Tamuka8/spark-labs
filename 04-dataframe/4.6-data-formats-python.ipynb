{
 "cells": [
  {
   "cell_type": "markdown",
   "metadata": {},
   "source": [
    "<link rel='stylesheet' href='../assets/css/main.css'/>\n",
    "\n",
    "[<< back to main index](../README.md) \n",
    "\n",
    "# Lab 4.5 : Data formats (JSON vs. Parquet vs. ORC)\n",
    "\n",
    "\n",
    "### Overview\n",
    "Comparing different data formats for Dataframes.  We will evaluate JSON, Parquet and ORC format.\n",
    "\n",
    "Background reads:\n",
    "- [Spark data frames](https://spark.apache.org/docs/latest/sql-programming-guide.html)\n",
    "- JSON format \n",
    "    - [wikipedia](https://en.wikipedia.org/wiki/JSON)\n",
    "    - [json.org](http://json.org/)\n",
    "- Parquet format\n",
    "    - [Parquet project](https://parquet.apache.org/)\n",
    "    - [parquet github](https://github.com/Parquet/parquet-format)\n",
    "    - [presentation](http://www.slideshare.net/larsgeorge/parquet-data-io-philadelphia-2013)\n",
    "- ORC format\n",
    "    + [ORC project](https://orc.apache.org/)\n",
    "    + [ORC explained](http://www.semantikoz.com/blog/orc-intelligent-big-data-file-format-hadoop-hive/)\n",
    "    + [ORC performance](http://docs.hortonworks.com/HDPDocuments/HDP2/HDP-2.4.3/bk_performance_tuning/content/hive_perf_best_pract_use_orc_file_format.html)\n",
    "\n",
    "### Depends On \n",
    "None\n",
    "\n",
    "### Run time\n",
    "20-30 mins\n",
    "\n",
    "\n",
    "## STEP 1: Clickstream data\n",
    "There is about 1G+ clickstream data stored in `/data/click-stream/json` directory.  \n",
    "\n",
    "They look like this\n",
    "\n",
    "```json\n",
    "{\"timestamp\": 1420070400000, \"ip\": \"ip_557\", \"user\": \"user_13011\", \"action\": \"blocked\", \"domain\": \"npr.org\", \"campaign\": \"campaign_13\", \"cost\": 116, \"session\": \"session_43\"}\n",
    "\n",
    "{\"timestamp\": 1420070400043, \"ip\": \"ip_129\", \"user\": \"user_58773\", \"action\": \"clicked\", \"domain\": \"flickr.com\", \"campaign\": \"campaign_7\", \"cost\": 170, \"session\": \"session_23\"}\n",
    "\n",
    "{\"timestamp\": 1420070400086, \"ip\": \"ip_704\", \"user\": \"user_71191\", \"action\": \"viewed\", \"domain\": \"foxnews.com\", \"campaign\": \"campaign_20\", \"cost\": 47, \"session\": \"session_48\"}\n",
    "\n",
    "```"
   ]
  },
  {
   "cell_type": "markdown",
   "metadata": {},
   "source": [
    "#### [Optional] If you need to generate more data....\n",
    "```bash\n",
    "    $    cd   /data/click-stream/\n",
    "    $    python   gen-clickstream-json.py\n",
    "```"
   ]
  },
  {
   "cell_type": "markdown",
   "metadata": {},
   "source": [
    "## STEP 2: Benchmarking Spreadsheet\n",
    "Download and inspect [Benchmarking_Dataformats.xlsx](Benchmarking_Dataformats.xlsx).  \n",
    "**We will be filling out the values in this spreadsheet, as we execute commands on Spark Shell.**\n",
    "\n",
    "It will look like this (click on the image for larger version)\n",
    "\n",
    "<a href=\"../assets/images/5.3a.png\"><img src=\"../assets/images/5.3a-small.png\" style=\"border: 5px solid grey; max-width:100%;\"/></a>\n",
    "\n"
   ]
  },
  {
   "cell_type": "code",
   "execution_count": null,
   "metadata": {
    "collapsed": true
   },
   "outputs": [],
   "source": [
    "print('Spark UI running on http://YOURIPADDRESS:' + sc.uiWebUrl.split(':')[2])"
   ]
  },
  {
   "cell_type": "code",
   "execution_count": null,
   "metadata": {
    "attributes": {
     "classes": [
      "scala"
     ],
     "id": ""
    },
    "collapsed": true
   },
   "outputs": [],
   "source": [
    "sc.setLogLevel(\"INFO\")\n",
    "print(\"log level set to INFO\")"
   ]
  },
  {
   "cell_type": "markdown",
   "metadata": {},
   "source": [
    "## STEP 3: ATOP\n",
    "\n",
    "Also open another terminal and run **atop**.  \n",
    "We will use this to monitor CPU / IO usage \n"
   ]
  },
  {
   "cell_type": "markdown",
   "metadata": {},
   "source": [
    "## STEP 4: Load Clickstream data"
   ]
  },
  {
   "cell_type": "code",
   "execution_count": null,
   "metadata": {
    "attributes": {
     "classes": [
      "scala"
     ],
     "id": ""
    },
    "collapsed": true
   },
   "outputs": [],
   "source": [
    "# load all the files in the dir\n",
    "clicksJson = spark.read.json(\"/data/click-stream/json/\")\n",
    "print(clicksJson)"
   ]
  },
  {
   "cell_type": "markdown",
   "metadata": {},
   "source": [
    "**==> While the import is running take a look at `atop` terminal.  Which of the resources are we maxing out?**  \n",
    "**==> Measure the time taken to load JSON data; record it in the spreadsheet**  \n",
    "\n",
    "**==> Find the max value of cost**   \n",
    "**==> While the query is running, check `atop`**"
   ]
  },
  {
   "cell_type": "code",
   "execution_count": null,
   "metadata": {
    "attributes": {
     "classes": [
      "scala"
     ],
     "id": ""
    },
    "collapsed": true
   },
   "outputs": [],
   "source": [
    "from pyspark.sql import *\n",
    "clicksJson.createOrReplaceTempView(\"clicks_json\")\n",
    "spark.sql(\"SELECT MAX(cost) FROM clicks_json\").show()"
   ]
  },
  {
   "cell_type": "markdown",
   "metadata": {},
   "source": [
    "Sample output"
   ]
  },
  {
   "cell_type": "code",
   "execution_count": null,
   "metadata": {
    "attributes": {
     "classes": [
      "console"
     ],
     "id": ""
    },
    "collapsed": true
   },
   "outputs": [],
   "source": [
    "    +---------+\n",
    "    |MAX(cost)|\n",
    "    +---------+\n",
    "    |      180|\n",
    "    +---------+"
   ]
  },
  {
   "cell_type": "markdown",
   "metadata": {},
   "source": [
    "**==> Note the time it took to run the query, and record it in spreadsheet**"
   ]
  },
  {
   "cell_type": "code",
   "execution_count": null,
   "metadata": {
    "attributes": {
     "classes": [
      "console"
     ],
     "id": ""
    },
    "collapsed": true
   },
   "outputs": [],
   "source": [
    "    Job 1 finished: show at <console>:24, took `8.550481 s`"
   ]
  },
  {
   "cell_type": "markdown",
   "metadata": {},
   "source": [
    "## STEP 6 : Save the logs in Parquet format\n",
    "\n",
    "We are going to use Spark's built-in parquet support to save the dataframe into parquet format"
   ]
  },
  {
   "cell_type": "code",
   "execution_count": null,
   "metadata": {
    "attributes": {
     "classes": [
      "scala"
     ],
     "id": ""
    },
    "collapsed": true
   },
   "outputs": [],
   "source": [
    "clicksJson.write.parquet(\"/data/click-stream/my-parquet\")"
   ]
  },
  {
   "cell_type": "markdown",
   "metadata": {},
   "source": [
    "**==> Inspect `atop` terminal**  \n",
    "**==> Measure the time taken to 'save as parquet' and record it in spreadsheet**  "
   ]
  },
  {
   "cell_type": "markdown",
   "metadata": {},
   "source": [
    "## Step 7 : Saving ORC"
   ]
  },
  {
   "cell_type": "code",
   "execution_count": null,
   "metadata": {
    "attributes": {
     "classes": [
      "scala"
     ],
     "id": ""
    },
    "collapsed": true
   },
   "outputs": [],
   "source": [
    "clicksJson.write.orc(\"/data/click-stream/my-orc\")"
   ]
  },
  {
   "cell_type": "markdown",
   "metadata": {},
   "source": [
    "**==> Measure the time taken to save as ORC and record in spreadsheet**   \n",
    "\n",
    "## STEP 8 : Querying Parquet Data"
   ]
  },
  {
   "cell_type": "code",
   "execution_count": null,
   "metadata": {
    "attributes": {
     "classes": [
      "scala"
     ],
     "id": ""
    },
    "collapsed": true
   },
   "outputs": [],
   "source": [
    "clicksParquet = spark.read.parquet(\"/data/click-stream/my-parquet\")\n",
    "clicksParquet.createOrReplaceTempView(\"clicks_parquet\")"
   ]
  },
  {
   "cell_type": "markdown",
   "metadata": {},
   "source": [
    "**==> Note how quickly the data is loaded; measure this time and record in spreadsheet**   \n",
    "**==> and schema is inferred!**  \n",
    "\n",
    "Parquet format has built-in schema, so Spark doesn't have to parse the files as needed in JSON format\n",
    "\n",
    "**==> Caclculate max(cost)**"
   ]
  },
  {
   "cell_type": "code",
   "execution_count": null,
   "metadata": {
    "attributes": {
     "classes": [
      "scala"
     ],
     "id": ""
    },
    "collapsed": true
   },
   "outputs": [],
   "source": [
    "spark.sql(\"SELECT MAX(cost) FROM clicks_parquet\").show()"
   ]
  },
  {
   "cell_type": "markdown",
   "metadata": {},
   "source": [
    "**==> Notice the time took and record in spreadsheet**    \n",
    "Sample output"
   ]
  },
  {
   "cell_type": "markdown",
   "metadata": {
    "attributes": {
     "classes": [
      "console"
     ],
     "id": ""
    },
    "collapsed": true
   },
   "source": [
    "Job 3 finished: show at <console>:24, took `0.627185 s`"
   ]
  },
  {
   "cell_type": "markdown",
   "metadata": {},
   "source": [
    "**==> Why parquet is so quick to process?** \n",
    "\n",
    "\n",
    "## STEP 9 : Querying ORC"
   ]
  },
  {
   "cell_type": "code",
   "execution_count": null,
   "metadata": {
    "attributes": {
     "classes": [
      "scala "
     ],
     "id": ""
    },
    "collapsed": true
   },
   "outputs": [],
   "source": [
    "clicksORC = spark.read.orc(\"/data/click-stream/my-orc\")\n",
    "clicksORC.createOrReplaceTempView(\"clicks_orc\")\n",
    "\n"
   ]
  },
  {
   "cell_type": "markdown",
   "metadata": {},
   "source": [
    "**==> Note the load time and record in spreadsheet**   \n",
    "\n",
    "**==> Measure query time and record in spreadsheet**"
   ]
  },
  {
   "cell_type": "code",
   "execution_count": null,
   "metadata": {
    "attributes": {
     "classes": [
      "scala"
     ],
     "id": ""
    },
    "collapsed": true
   },
   "outputs": [],
   "source": [
    "spark.sql(\"SELECT MAX(cost) FROM clicks_orc\").show()"
   ]
  },
  {
   "cell_type": "markdown",
   "metadata": {
    "attributes": {
     "classes": [
      "console"
     ],
     "id": ""
    },
    "collapsed": true
   },
   "source": [
    "## Step 10 : Compare Data Sizes\n",
    "Open a terminal and run the following command.\n",
    "\n",
    "```bash\n",
    "# bytes for spreadsheet\n",
    "    $    du -b  ~/data/click-stream/*\n",
    "    # in Mac use `du -k`\n",
    "\n",
    "    # for human readable format use\n",
    "    $    du -skh  ~/data/click-stream/*\n",
    "```\n",
    "\n",
    "Sample output\n",
    "\n",
    "```\n",
    "    1415178847  /Users/sujee/data/click-stream/json\n",
    "    161398938   /Users/sujee/data/click-stream/json-gz\n",
    "    105793926   /Users/sujee/data/click-stream/orc\n",
    "    118394196   /Users/sujee/data/click-stream/parquet\n",
    "```\n",
    "\n",
    "**==> Record the byte sizes in spreadsheet**  "
   ]
  },
  {
   "cell_type": "markdown",
   "metadata": {
    "collapsed": true
   },
   "source": [
    "## BONUS : Compressed JSON\n",
    "\n",
    "We are going to store JSON files in compressed gzip format\n",
    "\n",
    "**==> Compress the files**\n",
    "\n",
    "```bash\n",
    "$    cd   ~/data/click-stream\n",
    "$   ./compress-json.sh\n",
    "```\n",
    "\n",
    "This will create compressed JSON in `json-gz` directory\n",
    "\n",
    "**==> Inspect directory sizes**\n",
    "\n",
    "```bash\n",
    "    # bytes for spreadsheet\n",
    "    $    du -b json    json-gz   parquet \n",
    "\n",
    "    # human readable format\n",
    "    $    du -skh  json    json-gz   parquet \n",
    "```\n",
    "\n",
    "Sample output\n",
    "\n",
    "```\n",
    "1.3G    json\n",
    "154M    json-gz\n",
    " 77M    parquet\n",
    "```"
   ]
  },
  {
   "cell_type": "markdown",
   "metadata": {},
   "source": [
    "**==> Load compressed json files in Spark shell and do the same processing**  \n",
    "**==> Look at `atop` window to see resource usage**"
   ]
  },
  {
   "cell_type": "code",
   "execution_count": null,
   "metadata": {
    "collapsed": true
   },
   "outputs": [],
   "source": [
    "#note the parsing time\n",
    "clicksJgz = spark.read.json(\"/data/click-stream/json-gz\")\n",
    "clicksParquet.createOrReplaceTempView(\"clicks_jsongz\")\n",
    "\n",
    "\n",
    "\n",
    "# calculate the max cost\n",
    "#notice the time took\n",
    "spark.sql(\"SELECT MAX(cost) FROM clicks_jsongz\").show()\n",
    "\n",
    "# output : Job 7 finished: show at console:22, took 8.066727 s\n"
   ]
  },
  {
   "cell_type": "markdown",
   "metadata": {},
   "source": [
    "### STEP 9 : Analyze / discuss results"
   ]
  },
  {
   "cell_type": "markdown",
   "metadata": {},
   "source": [
    "Here are numbers from my run:\n",
    "\n",
    "```\n",
    "|format   | storage size |  loading time | query time : max(cost)|\n",
    "|---------|:-------------|:--------------|:---------------------:|\n",
    "| json    |  1.3 G       |  8.3 s        |   4.6 s               |\n",
    "| json.gz |  154 M       |  8.5 s        |   4.1 s               | \n",
    "| parquet |  101 M       |    0 s        |   0.23 s              | \n",
    "| ORC     |  113 M       |    0 s        |   0.76 s              | \n",
    "```"
   ]
  },
  {
   "cell_type": "markdown",
   "metadata": {},
   "source": [
    "**==> Also discuss your findings from `atop`.  Which resource 'ceiling' we are hitting first?  CPU / Memory / Disk ?**"
   ]
  }
 ],
 "metadata": {
  "kernelspec": {
   "display_name": "Python 3",
   "language": "python",
   "name": "python3"
  },
  "language_info": {
   "codemirror_mode": {
    "name": "ipython",
    "version": 3
   },
   "file_extension": ".py",
   "mimetype": "text/x-python",
   "name": "python",
   "nbconvert_exporter": "python",
   "pygments_lexer": "ipython3",
   "version": "3.6.1"
  }
 },
 "nbformat": 4,
 "nbformat_minor": 1
}
