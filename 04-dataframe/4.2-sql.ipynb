{
 "cells": [
  {
   "cell_type": "markdown",
   "metadata": {},
   "source": [
    "<link rel='stylesheet' href='../assets/css/main.css'/>\n",
    "\n",
    "[<< back to main index](../README.md)\n",
    "\n",
    "# Lab 4.2 : Spark SQL\n",
    "\n",
    "\n",
    "\n",
    "### Overview\n",
    "Using SQL statements with Spark SQL.   \n",
    "\n",
    "### Depends On \n",
    "None\n",
    "\n",
    "### Run time\n",
    "20-30 mins\n"
   ]
  },
  {
   "cell_type": "markdown",
   "metadata": {},
   "source": [
    "## STEP 1: Load Clickstream data\n",
    "\n",
    "**==> Create a dataframe**"
   ]
  },
  {
   "cell_type": "code",
   "execution_count": 2,
   "metadata": {
    "attributes": {
     "classes": [
      "scala"
     ],
     "id": ""
    }
   },
   "outputs": [
    {
     "name": "stdout",
     "output_type": "stream",
     "text": [
      "DataFrame[action: string, campaign: string, cost: bigint, domain: string, ip: string, session: string, timestamp: bigint, user: string]\n",
      "+-------+-----------+----+-----------------+----+----------+-------------+------+\n",
      "| action|   campaign|cost|           domain|  ip|   session|    timestamp|  user|\n",
      "+-------+-----------+----+-----------------+----+----------+-------------+------+\n",
      "|clicked|campaign_19| 118|      youtube.com|ip_4|session_36|1420070400000|user_9|\n",
      "|blocked|campaign_12|   5|     facebook.com|ip_3|session_96|1420070400864|user_5|\n",
      "|clicked| campaign_3|  54|sf.craigslist.org|ip_9|session_61|1420070401728|user_8|\n",
      "|blocked|campaign_18| 110|    wikipedia.org|ip_5|session_55|1420070402592|user_6|\n",
      "|clicked| campaign_6|  15|comedycentral.com|ip_9|session_49|1420070403456|user_4|\n",
      "|blocked| campaign_9| 139|          cnn.com|ip_8|session_13|1420070404320|user_7|\n",
      "|blocked| campaign_4| 171|   funnyordie.com|ip_1|session_92|1420070405184|user_9|\n",
      "|blocked|campaign_17|  20|       amazon.com|ip_4|session_13|1420070406048|user_1|\n",
      "|blocked|campaign_20|  78|        zynga.com|ip_5|session_36|1420070406912|user_3|\n",
      "|blocked|campaign_19| 147|      nytimes.com|ip_2|session_65|1420070407776|user_6|\n",
      "| viewed| campaign_5|  50|    wikipedia.org|ip_5|session_10|1420070408640|user_6|\n",
      "|clicked|campaign_16| 141|    wikipedia.org|ip_1|session_57|1420070409504|user_1|\n",
      "| viewed|campaign_19|   0|sf.craigslist.org|ip_9|session_19|1420070410368|user_7|\n",
      "| viewed| campaign_1|  24|        yahoo.com|ip_4|session_60|1420070411232|user_8|\n",
      "|clicked| campaign_5|  74|       sfgate.com|ip_6|session_27|1420070412096|user_3|\n",
      "|blocked| campaign_2|   7|      youtube.com|ip_2|session_93|1420070412960|user_1|\n",
      "|blocked| campaign_9| 153|       google.com|ip_3|session_22|1420070413824|user_9|\n",
      "|blocked| campaign_8| 140|comedycentral.com|ip_8| session_4|1420070414688|user_2|\n",
      "|blocked|campaign_19|  23|       amazon.com|ip_5|session_85|1420070415552|user_7|\n",
      "| viewed|campaign_20| 133|       google.com|ip_9|session_69|1420070416416|user_7|\n",
      "+-------+-----------+----+-----------------+----+----------+-------------+------+\n",
      "\n"
     ]
    }
   ],
   "source": [
    "clickstreamDF = spark.read.json(\"/data/click-stream/clickstream.json\")\n",
    "print(clickstreamDF)\n",
    "clickstreamDF.show()"
   ]
  },
  {
   "cell_type": "markdown",
   "metadata": {},
   "source": [
    "**==> Register dataframe as a table**"
   ]
  },
  {
   "cell_type": "code",
   "execution_count": 3,
   "metadata": {
    "attributes": {
     "classes": [
      "scala"
     ],
     "id": ""
    }
   },
   "outputs": [],
   "source": [
    "clickstreamDF.createOrReplaceTempView(\"clickstream\")"
   ]
  },
  {
   "cell_type": "markdown",
   "metadata": {},
   "source": [
    "## STEP 2: Querying using SQL\n",
    "\n",
    "\n",
    "**==> Select all logs**"
   ]
  },
  {
   "cell_type": "code",
   "execution_count": 4,
   "metadata": {
    "attributes": {
     "classes": [
      "scala"
     ],
     "id": ""
    },
    "scrolled": true
   },
   "outputs": [
    {
     "name": "stdout",
     "output_type": "stream",
     "text": [
      "+-------+-----------+----+-----------------+----+----------+-------------+------+\n",
      "| action|   campaign|cost|           domain|  ip|   session|    timestamp|  user|\n",
      "+-------+-----------+----+-----------------+----+----------+-------------+------+\n",
      "|clicked|campaign_19| 118|      youtube.com|ip_4|session_36|1420070400000|user_9|\n",
      "|blocked|campaign_12|   5|     facebook.com|ip_3|session_96|1420070400864|user_5|\n",
      "|clicked| campaign_3|  54|sf.craigslist.org|ip_9|session_61|1420070401728|user_8|\n",
      "|blocked|campaign_18| 110|    wikipedia.org|ip_5|session_55|1420070402592|user_6|\n",
      "|clicked| campaign_6|  15|comedycentral.com|ip_9|session_49|1420070403456|user_4|\n",
      "|blocked| campaign_9| 139|          cnn.com|ip_8|session_13|1420070404320|user_7|\n",
      "|blocked| campaign_4| 171|   funnyordie.com|ip_1|session_92|1420070405184|user_9|\n",
      "|blocked|campaign_17|  20|       amazon.com|ip_4|session_13|1420070406048|user_1|\n",
      "|blocked|campaign_20|  78|        zynga.com|ip_5|session_36|1420070406912|user_3|\n",
      "|blocked|campaign_19| 147|      nytimes.com|ip_2|session_65|1420070407776|user_6|\n",
      "| viewed| campaign_5|  50|    wikipedia.org|ip_5|session_10|1420070408640|user_6|\n",
      "|clicked|campaign_16| 141|    wikipedia.org|ip_1|session_57|1420070409504|user_1|\n",
      "| viewed|campaign_19|   0|sf.craigslist.org|ip_9|session_19|1420070410368|user_7|\n",
      "| viewed| campaign_1|  24|        yahoo.com|ip_4|session_60|1420070411232|user_8|\n",
      "|clicked| campaign_5|  74|       sfgate.com|ip_6|session_27|1420070412096|user_3|\n",
      "|blocked| campaign_2|   7|      youtube.com|ip_2|session_93|1420070412960|user_1|\n",
      "|blocked| campaign_9| 153|       google.com|ip_3|session_22|1420070413824|user_9|\n",
      "|blocked| campaign_8| 140|comedycentral.com|ip_8| session_4|1420070414688|user_2|\n",
      "|blocked|campaign_19|  23|       amazon.com|ip_5|session_85|1420070415552|user_7|\n",
      "| viewed|campaign_20| 133|       google.com|ip_9|session_69|1420070416416|user_7|\n",
      "+-------+-----------+----+-----------------+----+----------+-------------+------+\n",
      "\n"
     ]
    }
   ],
   "source": [
    "logs = spark.sql(\"select * from clickstream\")\n",
    "#'logs' is a dataframe\n",
    "logs.show()"
   ]
  },
  {
   "cell_type": "markdown",
   "metadata": {},
   "source": [
    "**==> Find records with only clicks**\n"
   ]
  },
  {
   "cell_type": "code",
   "execution_count": null,
   "metadata": {
    "collapsed": true
   },
   "outputs": [],
   "source": [
    "# TODO: Find Records with only clicks\n",
    "spark.sql(\"select * from ??? where action = '???'\").show()\n"
   ]
  },
  {
   "cell_type": "markdown",
   "metadata": {},
   "source": [
    "**==> Count records from each domain, sort the output by most to least**\n",
    "\n"
   ]
  },
  {
   "cell_type": "code",
   "execution_count": null,
   "metadata": {
    "collapsed": true
   },
   "outputs": [],
   "source": [
    "# TODO: Try this query here:\n",
    "\n",
    "spark.sql(\"select ???, ??? from clickstream group by ???  order by ??? \").show()"
   ]
  },
  {
   "cell_type": "markdown",
   "metadata": {},
   "source": [
    "\n",
    "## STEP 3: Joining Datasets\n",
    "\n",
    "**==> Load `domains` dataset and register it to table `domains`**"
   ]
  },
  {
   "cell_type": "code",
   "execution_count": null,
   "metadata": {
    "attributes": {
     "classes": [
      "scala"
     ],
     "id": ""
    }
   },
   "outputs": [],
   "source": [
    "domainsDF = spark.read.json(\"/data/click-stream/domain-info.json\")\n",
    "domainsDF.show()\n",
    "domainsDF.createOrReplaceTempView(\"domains\")"
   ]
  },
  {
   "cell_type": "markdown",
   "metadata": {},
   "source": [
    "**==> Join `clickstreams` and `domains`**    \n",
    "Hint : Join query syntax for joining two tables A, B on A.x and A.y is\n",
    "```\n",
    "spark.sql(\"select A.*, B.* from A  join B  ON (A.x = B.y)\") \n",
    "```"
   ]
  },
  {
   "cell_type": "code",
   "execution_count": null,
   "metadata": {
    "attributes": {
     "classes": [
      "sql"
     ],
     "id": ""
    }
   },
   "outputs": [],
   "source": [
    "# TODO: Write sql query for joining clickstreams and domains\n",
    "# spark.sql(\"SELECT ....\")\n",
    "\n"
   ]
  },
  {
   "cell_type": "markdown",
   "metadata": {},
   "source": [
    "\n",
    "**==> Count traffic per domain category (news, social ..etc)**    \n",
    "Hint : query the joined datasets\n"
   ]
  },
  {
   "cell_type": "code",
   "execution_count": null,
   "metadata": {
    "collapsed": true
   },
   "outputs": [],
   "source": [
    "# TODO: Count traffic per domained category\n",
    "\n"
   ]
  },
  {
   "cell_type": "markdown",
   "metadata": {},
   "source": [
    "\n",
    "## STEP 4: Explore UI\n",
    "(Your DAG visualization may be slightly different from what we show here)\n",
    "\n",
    "<img src=\"../assets/images/5.2c.png\" style=\"border: 5px solid grey; max-width:100%;\"/>\n",
    "\n",
    "<img src=\"../assets/images/5.2d.png\" style=\"border: 5px solid grey; max-width:100%;\"/>\n",
    "\n",
    "<img src=\"../assets/images/5.2e.png\" style=\"border: 5px solid grey; max-width:100%;\"/>"
   ]
  }
 ],
 "metadata": {
  "kernelspec": {
   "display_name": "Python 3",
   "language": "python",
   "name": "python3"
  },
  "language_info": {
   "codemirror_mode": {
    "name": "ipython",
    "version": 3
   },
   "file_extension": ".py",
   "mimetype": "text/x-python",
   "name": "python",
   "nbconvert_exporter": "python",
   "pygments_lexer": "ipython3",
   "version": "3.6.1"
  }
 },
 "nbformat": 4,
 "nbformat_minor": 1
}
