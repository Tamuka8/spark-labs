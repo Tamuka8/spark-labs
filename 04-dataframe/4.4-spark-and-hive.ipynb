{
 "cells": [
  {
   "cell_type": "markdown",
   "metadata": {},
   "source": [
    "<link rel='stylesheet' href='../assets/css/main.css'/>\n",
    "\n",
    "# Lab 4.4: Spark And Hive\n",
    "\n",
    "\n",
    "<img src=\"../assets/images/spark-and-hadoop-1.png\" style=\"border: 5px solid grey ; max-\n",
    "width:100%;\" />\n",
    "\n",
    "<img src=\"../assets/images/spark-and-hadoop-2.png\" style=\"border: 5px solid grey ; max-\n",
    "width:100%;\" />\n",
    "\n",
    "\n",
    "## Step 1 : Open Two Terminal Sessions to Hadoop Node\n",
    "Instructor will demonstrate how.\n",
    "\n",
    "## Step 2 : In Terminal 1 : Start Hive Shell"
   ]
  },
  {
   "cell_type": "code",
   "execution_count": null,
   "metadata": {
    "collapsed": true
   },
   "outputs": [],
   "source": [
    "```bash\n",
    "    $   hive\n",
    "```"
   ]
  },
  {
   "cell_type": "markdown",
   "metadata": {},
   "source": [
    "Inspect the tables and run a query on 'clickstream' table."
   ]
  },
  {
   "cell_type": "code",
   "execution_count": null,
   "metadata": {
    "attributes": {
     "classes": [
      "sql"
     ],
     "id": ""
    },
    "collapsed": true
   },
   "outputs": [],
   "source": [
    "```sql\n",
    "  hive>\n",
    "        show tables;\n",
    "\n",
    "        select * from clickstream limit 10;\n",
    "\n",
    "        select action, count(*) as total from clickstream group by action;\n",
    "```"
   ]
  },
  {
   "cell_type": "markdown",
   "metadata": {},
   "source": [
    "## Step 3 : In Terminal 2 Start Spark shell"
   ]
  },
  {
   "cell_type": "code",
   "execution_count": null,
   "metadata": {
    "collapsed": true
   },
   "outputs": [],
   "source": [
    "```bash\n",
    "    $    pyspark\n",
    "```"
   ]
  },
  {
   "cell_type": "markdown",
   "metadata": {},
   "source": [
    "Type this in Spark Shell"
   ]
  },
  {
   "cell_type": "code",
   "execution_count": null,
   "metadata": {
    "collapsed": true
   },
   "outputs": [],
   "source": [
    "sc.setLogLevel(\"WARN\")"
   ]
  },
  {
   "cell_type": "markdown",
   "metadata": {},
   "source": [
    "Go to http://localhost:4040 in the browser.\n",
    "\n",
    "\n",
    "## Step 4 : Inspect Hive Tables\n",
    "Do this in pyspark\n",
    "\n",
    "#### spark 2"
   ]
  },
  {
   "cell_type": "code",
   "execution_count": null,
   "metadata": {
    "collapsed": true
   },
   "outputs": [],
   "source": [
    "## Spark 2 Catalog\n",
    "print(spark.catalog.listDatabases())\n",
    "spark.catalog.listTables(\"mydb\").show()"
   ]
  },
  {
   "cell_type": "markdown",
   "metadata": {},
   "source": [
    "#### Spark 1"
   ]
  },
  {
   "cell_type": "code",
   "execution_count": null,
   "metadata": {
    "attributes": {
     "classes": [
      "scala"
     ],
     "id": ""
    },
    "collapsed": true
   },
   "outputs": [],
   "source": [
    "## Spark 1\n",
    "sqlContext.tableNames()\n",
    "## TODO : change 'mydb' accordingly\n",
    "sqlContext.tableNames(\"mydb\")\n",
    "\n",
    "t = sqlContext.table(\"mydb.clickstream\")\n",
    "t.printSchema()\n",
    "t.show()"
   ]
  },
  {
   "cell_type": "markdown",
   "metadata": {},
   "source": [
    "## Step 5 : Queries\n",
    "#### Spark 2"
   ]
  },
  {
   "cell_type": "code",
   "execution_count": null,
   "metadata": {
    "collapsed": true
   },
   "outputs": [],
   "source": [
    "## Spark 2\n",
    "#accessing Hive databases (access using DBName.TabeName)\n",
    "\n",
    "\n",
    "spark.sql(\"select * from x_clickstream limit 10\").show()\n",
    "spark.sql(\"select action, count(*) as total from x_clickstream group by action\").show()\n"
   ]
  },
  {
   "cell_type": "markdown",
   "metadata": {},
   "source": [
    "#### Spark 1 "
   ]
  },
  {
   "cell_type": "code",
   "execution_count": null,
   "metadata": {
    "collapsed": true
   },
   "outputs": [],
   "source": [
    "sqlContext.sql(\"select * from x_clickstream limit 10\").show()\n",
    "sqlContext.sql(\"select action, count(*) as total from x_clickstream group by action\").show()"
   ]
  }
 ],
 "metadata": {
  "kernelspec": {
   "display_name": "Python 3",
   "language": "python",
   "name": "python3"
  },
  "language_info": {
   "codemirror_mode": {
    "name": "ipython",
    "version": 3
   },
   "file_extension": ".py",
   "mimetype": "text/x-python",
   "name": "python",
   "nbconvert_exporter": "python",
   "pygments_lexer": "ipython3",
   "version": "3.6.1"
  }
 },
 "nbformat": 4,
 "nbformat_minor": 1
}
