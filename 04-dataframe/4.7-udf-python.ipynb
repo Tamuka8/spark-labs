{
 "cells": [
  {
   "cell_type": "markdown",
   "metadata": {},
   "source": [
    "<link rel='stylesheet' href='../assets/css/main.css'/>\n",
    "\n",
    "# Lab 4.7 : Spark UDF\n",
    "\n",
    "\n",
    "### Overview\n",
    "Using User Defined Functions with Spark Dataframes\n",
    "\n",
    "### Depends On \n",
    "None\n",
    "\n",
    "### Run time\n",
    "15-20 mins\n"
   ]
  },
  {
   "cell_type": "code",
   "execution_count": null,
   "metadata": {},
   "outputs": [],
   "source": [
    "# initialize Spark Session\n",
    "import os\n",
    "import sys\n",
    "top_dir = os.path.abspath(os.path.join(os.getcwd(), \"../\"))\n",
    "if top_dir not in sys.path:\n",
    "    sys.path.append(top_dir)\n",
    "\n",
    "from init_spark import init_spark\n",
    "spark = init_spark()"
   ]
  },
  {
   "cell_type": "markdown",
   "metadata": {},
   "source": [
    "\n",
    "## STEP 1: Load MT Cars data"
   ]
  },
  {
   "cell_type": "code",
   "execution_count": null,
   "metadata": {
    "attributes": {
     "classes": [
      "scala"
     ],
     "id": ""
    }
   },
   "outputs": [],
   "source": [
    "mtcarsDF = spark.read.csv(\"../data/cars/mtcars_header.csv\", header=\"true\")\n",
    "print(mtcarsDF)"
   ]
  },
  {
   "cell_type": "markdown",
   "metadata": {},
   "source": [
    "\n",
    "\n",
    "## STEP 2 : Inspecting The Dataframe\n",
    "\n",
    "**==> Print the schema of data frame**     \n"
   ]
  },
  {
   "cell_type": "code",
   "execution_count": null,
   "metadata": {},
   "outputs": [],
   "source": [
    "mtcarsDF.printSchema()"
   ]
  },
  {
   "cell_type": "code",
   "execution_count": null,
   "metadata": {},
   "outputs": [],
   "source": [
    "mtcarsDF.show()"
   ]
  },
  {
   "cell_type": "code",
   "execution_count": null,
   "metadata": {},
   "outputs": [],
   "source": [
    "mpgDF = mtcarsDF.select(\"model\", mtcarsDF.mpg.cast(\"float\"))\n",
    "mpgDF.show()"
   ]
  },
  {
   "cell_type": "code",
   "execution_count": null,
   "metadata": {},
   "outputs": [],
   "source": [
    "#Register dataframe as a table\n",
    "mpgDF.createOrReplaceTempView(\"mpgDF\")\n",
    "print(\"created mpgDF temp table\")"
   ]
  },
  {
   "cell_type": "markdown",
   "metadata": {},
   "source": [
    "\n",
    "## STEP 3 : Define the UDF\n",
    "\n",
    "**==> Create a UDF to convert mpg to kml i.e. kilometers/litre**"
   ]
  },
  {
   "cell_type": "code",
   "execution_count": null,
   "metadata": {
    "attributes": {
     "classes": [
      "scala"
     ],
     "id": ""
    },
    "scrolled": true
   },
   "outputs": [],
   "source": [
    "## This is a standard python function\n",
    "\n",
    "def mpg_to_kml(mpg):\n",
    "    kml = mpg * 1.6 / 3.7854\n",
    "    return kml"
   ]
  },
  {
   "cell_type": "code",
   "execution_count": null,
   "metadata": {},
   "outputs": [],
   "source": [
    "#register the UDF with Spark SQL\n",
    "from pyspark.sql.types import FloatType\n",
    "\n",
    "spark.udf.register(\"MPG_to_KmPerLiter\", mpg_to_kml, FloatType())"
   ]
  },
  {
   "cell_type": "code",
   "execution_count": null,
   "metadata": {},
   "outputs": [],
   "source": [
    "\n",
    "# Use the UDF in SQL\n",
    "\n",
    "resultDF = spark.sql(\"select model, MPG_to_KmPerLiter(mpg) from mpgDF\")\n",
    "resultDF.show()"
   ]
  },
  {
   "cell_type": "markdown",
   "metadata": {},
   "source": [
    "## Step 5 : Use the UDF in DataFrame\n"
   ]
  },
  {
   "cell_type": "code",
   "execution_count": null,
   "metadata": {},
   "outputs": [],
   "source": [
    "from pyspark.sql.functions import udf\n",
    "\n",
    "## create a UDF function\n",
    "mpg_to_kml_udf = udf(mpg_to_kml, FloatType())\n",
    "\n",
    "## Use udf function\n",
    "resultsDF = mpgDF.select(\"model\", mpg_to_kml_udf(\"mpg\").alias(\"km_per_liter\"))\n",
    "resultsDF.show()\n",
    "\n"
   ]
  },
  {
   "cell_type": "code",
   "execution_count": null,
   "metadata": {},
   "outputs": [],
   "source": []
  }
 ],
 "metadata": {
  "kernelspec": {
   "display_name": "Python 3",
   "language": "python",
   "name": "python3"
  },
  "language_info": {
   "codemirror_mode": {
    "name": "ipython",
    "version": 3
   },
   "file_extension": ".py",
   "mimetype": "text/x-python",
   "name": "python",
   "nbconvert_exporter": "python",
   "pygments_lexer": "ipython3",
   "version": "3.8.2"
  }
 },
 "nbformat": 4,
 "nbformat_minor": 4
}
