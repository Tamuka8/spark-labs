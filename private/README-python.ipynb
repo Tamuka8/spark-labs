{
 "cells": [
  {
   "cell_type": "markdown",
   "metadata": {},
   "source": [
    "# Readme Python 1\n",
    "Setup Python lab\n",
    "\n",
    "## Step 1: Login  to the VM\n",
    "Instructor will provide details\n",
    "\n",
    "## Step 2 : Install Spark\n",
    "\n",
    "```bash\n",
    "$   cd\n",
    "$   rm -rf  spark   # cleanup existing spark installation (if any)\n",
    "$   tar xvf   files/spark-2.2.0-bin-hadoop2.7.tgz\n",
    "$   mv  spark-2.2.0-bin-hadoop2.7    spark\n",
    "\n",
    "```\n",
    "\n",
    "## Step 3 : Get the labs\n",
    "\n",
    "```bash\n",
    "\n",
    "$  git clone --depth 1  git@github.com:elephantscale/spark-labs.git\n",
    "\n",
    "```\n",
    "\n",
    "## Step 4 : Get Data\n",
    "\n",
    "```bash\n",
    "$   cd  ~/data\n",
    "$   git pull\n",
    "$   cd\n",
    "```\n",
    "\n",
    "## Step 5 : Start Jupyter\n",
    "\n",
    "```bash\n",
    "\n",
    "$  cd spark-labs\n",
    "$  nohup ./run-jupyter.sh &\n",
    "\n",
    "```\n",
    "This will start Jupyter in the background.\n",
    "\n",
    "Open the Jupyter URL printed on console in browser.\n",
    "\n",
    "Then open **Spark-python.ipynb**  notebook."
   ]
  }
 ],
 "metadata": {
  "kernelspec": {
   "display_name": "Python 3",
   "language": "python",
   "name": "python3"
  },
  "language_info": {
   "codemirror_mode": {
    "name": "ipython",
    "version": 3
   },
   "file_extension": ".py",
   "mimetype": "text/x-python",
   "name": "python",
   "nbconvert_exporter": "python",
   "pygments_lexer": "ipython3",
   "version": "3.6.1"
  }
 },
 "nbformat": 4,
 "nbformat_minor": 2
}
