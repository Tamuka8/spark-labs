{
 "cells": [
  {
   "cell_type": "markdown",
   "metadata": {},
   "source": [
    "# 8.3 - Kafka Streaming With Spark\n",
    "\n",
    "## Structured Streaming (Newer API)\n",
    "- [1 - Kafka setup](kafka-setup-python.ipynb)\n",
    "- [2 - Kafka Structured Streaming](kafka-structured-streaming-python.ipynb)\n",
    "\n",
    "## Kafka Direct Streaming (Older API)\n",
    "- [1 - Kafka setup](kafka-setup-python.ipynb)\n",
    "- [2 - Kafka Direct Streaming](kafka-direct-streaming-python.ipynb)\n"
   ]
  },
  {
   "cell_type": "code",
   "execution_count": null,
   "metadata": {},
   "outputs": [],
   "source": []
  }
 ],
 "metadata": {
  "kernelspec": {
   "display_name": "Python 3",
   "language": "python",
   "name": "python3"
  },
  "language_info": {
   "codemirror_mode": {
    "name": "ipython",
    "version": 3
   },
   "file_extension": ".py",
   "mimetype": "text/x-python",
   "name": "python",
   "nbconvert_exporter": "python",
   "pygments_lexer": "ipython3",
   "version": "3.7.3"
  }
 },
 "nbformat": 4,
 "nbformat_minor": 4
}
