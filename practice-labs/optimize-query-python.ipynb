{
 "cells": [
  {
   "cell_type": "markdown",
   "metadata": {},
   "source": [
    "# Optimize SQL query\n",
    "We are using clickstream data.\n",
    "\n",
    "**Work in pairs**\n",
    "\n",
    "## Step 1 : Inspect clickstream / domain data\n",
    "\n",
    "Clickstream data looks like this\n",
    "```json\n",
    "{\"session\": \"session_36\", \"domain\": \"youtube.com\", \"cost\": 118, \"user\": \"user_9\", \"campaign\": \"campaign_19\", \"ip\": \"ip_4\", \"action\": \"clicked\", \"timestamp\": 1420070400000}\n",
    "\n",
    "{\"session\": \"session_96\", \"domain\": \"facebook.com\", \"cost\": 5, \"user\": \"user_5\", \"campaign\": \"campaign_12\", \"ip\": \"ip_3\", \"action\": \"blocked\", \"timestamp\": 1420070400864}\n",
    "```\n",
    "\n",
    "Domain data looks like this\n",
    "\n",
    "```json\n",
    "{\"domain\":\"amazon.com\",\"category\":\"SHOPPING\"}\n",
    "{\"domain\":\"bbc.co.uk\",\"category\":\"NEWS\"}\n",
    "{\"domain\":\"facebook.com\",\"category\":\"SOCIAL\"}\n",
    "```"
   ]
  },
  {
   "cell_type": "markdown",
   "metadata": {},
   "source": [
    "## Step 2 : Init Spark"
   ]
  },
  {
   "cell_type": "code",
   "execution_count": null,
   "metadata": {},
   "outputs": [],
   "source": [
    "# initialize Spark Session\n",
    "import os\n",
    "import sys\n",
    "top_dir = os.path.abspath(os.path.join(os.getcwd(), \"../\"))\n",
    "if top_dir not in sys.path:\n",
    "    sys.path.append(top_dir)\n",
    "\n",
    "from init_spark import init_spark\n",
    "spark = init_spark()\n",
    "sc = spark.sparkContext"
   ]
  },
  {
   "cell_type": "markdown",
   "metadata": {},
   "source": [
    "## Step 3 : Read Data"
   ]
  },
  {
   "cell_type": "code",
   "execution_count": null,
   "metadata": {},
   "outputs": [],
   "source": [
    "%%time \n",
    "\n",
    "## Create clickstream data\n",
    "\n",
    "! [ ! -d /data/click-stream/json/ ] && cd /data/click-stream  && python gen-clickstream-json.py \n",
    "\n",
    "! ls -lh  /data/click-stream/json/"
   ]
  },
  {
   "cell_type": "code",
   "execution_count": null,
   "metadata": {},
   "outputs": [],
   "source": [
    "# read clickstream\n",
    "clickstream = spark.read.json(\"../data/click-stream/json/\")\n",
    "clickstream.createOrReplaceTempView(\"clickstream\")\n",
    "clickstream.printSchema()\n",
    "print (clickstream.count())\n",
    "clickstream.show()"
   ]
  },
  {
   "cell_type": "code",
   "execution_count": null,
   "metadata": {},
   "outputs": [],
   "source": [
    "# read domains\n",
    "domains = spark.read.json(\"../data/click-stream/domain-info.json\")\n",
    "domains.createOrReplaceTempView(\"domains\")\n",
    "domains.printSchema()\n",
    "print (domains.count())\n",
    "domains.show()\n"
   ]
  },
  {
   "cell_type": "markdown",
   "metadata": {},
   "source": [
    "## Step 3 : Find traffic per domain-category\n",
    "Come up with SQL query for this.  \n",
    "\n",
    "Hint: Start with sql query like"
   ]
  },
  {
   "cell_type": "code",
   "execution_count": null,
   "metadata": {},
   "outputs": [],
   "source": [
    "sql=\"\"\"select clickstream.*, domains.*\n",
    "from clickstream join domains  \n",
    "ON (clickstream.domain = domains.domain)\n",
    "\"\"\"\n",
    "joined = spark.sql(sql)\n",
    "joined.show()"
   ]
  },
  {
   "cell_type": "markdown",
   "metadata": {},
   "source": [
    "## Step 4: Sort the output in descending order.  \n",
    "\n",
    "Sample output might be (not actual numbers)\n",
    "```console\n",
    "SHOPPING 300\n",
    "NEWS     200\n",
    "SOCIAL   100\n",
    "```"
   ]
  },
  {
   "cell_type": "markdown",
   "metadata": {},
   "source": [
    "## Step 5 : Ready, set, Optimize!\n",
    "Now apply all the tricks you have learned so far and execute the query in fastest time possible.\n",
    "\n",
    "Be creative!"
   ]
  }
 ],
 "metadata": {
  "kernelspec": {
   "display_name": "Python 3",
   "language": "python",
   "name": "python3"
  },
  "language_info": {
   "codemirror_mode": {
    "name": "ipython",
    "version": 3
   },
   "file_extension": ".py",
   "mimetype": "text/x-python",
   "name": "python",
   "nbconvert_exporter": "python",
   "pygments_lexer": "ipython3",
   "version": "3.8.8"
  }
 },
 "nbformat": 4,
 "nbformat_minor": 4
}
