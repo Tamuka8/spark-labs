{
 "cells": [
  {
   "cell_type": "markdown",
   "metadata": {},
   "source": [
    "# House Sales Analytics\n",
    "\n",
    "## Step 1 : Inspect House Sales data\n",
    "\n",
    "[sample house sales data](/data/house-prices/house-sales-sample.csv)\n",
    "\n",
    "```\n",
    "      ID    Date SalePrice PropertyID  PropertyType Bedrooms Bathrooms SqFtTotLiving SqFtLot YrBuilt ZipCode\n",
    " 1     1 9/16/14    280000    1000102     Multiplex        6      3.00          2400    9373    1991   98002\n",
    " 2     2 6/16/06   1000000    1200013 Single Family        4      3.75          3764   20156    2005   98166\n",
    " 3     3 1/29/07    745000    1200019 Single Family        4      1.75          2060   26036    1947   98166\n",
    " 4     4 2/25/08    425000    2800016 Single Family        5      3.75          3200    8618    1966   98168\n",
    " 5     5 3/29/13    240000    2800024 Single Family        4      1.75          1720    8620    1948   98168\n",
    " 6     6 3/30/09    349900    3600090     Townhouse        2      1.50           930    1012    2008   98144\n",
    " 7     7 8/28/13    327500    3800004 Single Family        3      1.50          1750   34465    1961   98178\n",
    " 8     8 5/24/07    347000    3800009 Single Family        4      1.75          1860   14659    1963   98178\n",
    " 9     9 9/22/06    220400    6600055 Single Family        2      1.00           990    5324    1930   98032\n",
    "10    10 8/22/06    437500    7200080     Multiplex        4      2.00          1980   10585    1924   98055\n",
    "# ... with 27,053 more rows\n",
    "```\n"
   ]
  },
  {
   "cell_type": "markdown",
   "metadata": {},
   "source": [
    "## Step 1 : Init Spark"
   ]
  },
  {
   "cell_type": "code",
   "execution_count": null,
   "metadata": {},
   "outputs": [],
   "source": [
    "# initialize Spark Session\n",
    "import os\n",
    "import sys\n",
    "top_dir = os.path.abspath(os.path.join(os.getcwd(), \"../\"))\n",
    "if top_dir not in sys.path:\n",
    "    sys.path.append(top_dir)\n",
    "\n",
    "from init_spark import init_spark\n",
    "spark = init_spark()\n",
    "sc = spark.sparkContext"
   ]
  },
  {
   "cell_type": "markdown",
   "metadata": {},
   "source": [
    "## Step 2 : Read Data"
   ]
  },
  {
   "cell_type": "code",
   "execution_count": null,
   "metadata": {},
   "outputs": [],
   "source": [
    "house_sales = (spark.read.\n",
    "                  option(\"header\", \"true\").\n",
    "                  csv(\"/data/house-prices/house-sales-simplified.csv\"))\n",
    "\n",
    "print(\"number of records : \", house_sales.count())\n",
    "house_sales.printSchema()\n",
    "house_sales.show()"
   ]
  },
  {
   "cell_type": "markdown",
   "metadata": {},
   "source": [
    "### Register a temp table so we can do SQL queries"
   ]
  },
  {
   "cell_type": "code",
   "execution_count": null,
   "metadata": {},
   "outputs": [],
   "source": [
    "# Register as temptable for SQL queries  \n",
    "\n",
    "house_sales.createOrReplaceTempView(\"house_sales\")\n"
   ]
  },
  {
   "cell_type": "markdown",
   "metadata": {},
   "source": [
    "## Step 3: Calculate sale numbers per bedrooms\n",
    "sample output (not actual numbers)\n",
    "```\n",
    "    bedrooms    count\n",
    "        1        100\n",
    "        2        150\n",
    "        3        200\n",
    "```\n",
    "\n",
    "Hint 1  : `groupby`  \n",
    "Hint 2  : or use SQL :-)  \n",
    "\n",
    "Q : What is the most number of bedrooms? :-) "
   ]
  },
  {
   "cell_type": "markdown",
   "metadata": {},
   "source": [
    "## Step 4: Get a 'sense' of data\n",
    "We use `describe`\n"
   ]
  },
  {
   "cell_type": "code",
   "execution_count": null,
   "metadata": {},
   "outputs": [],
   "source": [
    "house_sales.describe().toPandas()"
   ]
  },
  {
   "cell_type": "markdown",
   "metadata": {},
   "source": [
    "## Step 5 : Find prices per bedrooms\n",
    "Find avg, min, max prices for each bedrooms\n"
   ]
  },
  {
   "cell_type": "code",
   "execution_count": null,
   "metadata": {},
   "outputs": [],
   "source": []
  },
  {
   "cell_type": "markdown",
   "metadata": {},
   "source": [
    "## Step 6 : Find the most expensive zip code\n"
   ]
  },
  {
   "cell_type": "code",
   "execution_count": null,
   "metadata": {},
   "outputs": [],
   "source": []
  }
 ],
 "metadata": {
  "kernelspec": {
   "display_name": "Python 3",
   "language": "python",
   "name": "python3"
  },
  "language_info": {
   "codemirror_mode": {
    "name": "ipython",
    "version": 3
   },
   "file_extension": ".py",
   "mimetype": "text/x-python",
   "name": "python",
   "nbconvert_exporter": "python",
   "pygments_lexer": "ipython3",
   "version": "3.7.1"
  }
 },
 "nbformat": 4,
 "nbformat_minor": 2
}
