{
 "cells": [
  {
   "cell_type": "markdown",
   "metadata": {},
   "source": [
    "# Setup Python (v3)\n",
    "Setup Python lab\n",
    "\n",
    "## Tips\n",
    "Copy-Paste Shortcuts on Jupyter terminal\n",
    "- On Windows try : `Shift + Insert`\n",
    "- On Windows try : `Shift + Right Click`\n",
    "\n",
    "## Step 1: Access your VM\n",
    "Instructor will provide details.  \n",
    "You can access the VM by IP address using a browser.\n",
    "\n",
    "## Step 2: Access Jupyter Labs page\n",
    "Click on Jupyter 'Access'.  \n",
    "You should see a running instance of Jupyter Lab\n",
    "\n",
    "## Step 3: Open `Terminal` in Jupyter Lab\n",
    "This would give you access to shell access to the VM\n",
    "\n",
    "## Step 4: Install Spark\n",
    "```bash\n",
    "$   cd\n",
    "$   rm -rf  spark   # cleanup existing spark installation (if any)\n",
    "$   wget  https://elephantscale-public.s3.amazonaws.com/downloads/spark-2.4.3-bin-hadoop2.7.tgz\n",
    "$   tar xvf   spark-2.4.3-bin-hadoop2.7.tgz\n",
    "$   mv  spark-2.4.3-bin-hadoop2.7    spark\n",
    "```\n",
    "\n",
    "## Step 5: Get the labs\n",
    "\n",
    "```bash\n",
    "$   git clone   --depth=1   git@github.com:elephantscale/spark-labs.git\n",
    "```\n",
    "\n",
    "## Step 6: Get the data\n",
    "\n",
    "```bash\n",
    "$  cd ~/data;  git pull;   cd\n",
    "```\n",
    "\n",
    "## Step 7: Open `Readme-python.ipynb` file\n",
    "- In Jupyter Labs, navigate to **spark-labs**  directory\n",
    "- and open **README-python.ipynb**\n",
    "- Also open [testing-123.ipynb](01-python/testing-123.ipynb) notebook and run it, make sure there are no errors.\n",
    "\n"
   ]
  },
  {
   "cell_type": "code",
   "execution_count": null,
   "metadata": {},
   "outputs": [],
   "source": []
  }
 ],
 "metadata": {
  "kernelspec": {
   "display_name": "Python 3",
   "language": "python",
   "name": "python3"
  },
  "language_info": {
   "codemirror_mode": {
    "name": "ipython",
    "version": 3
   },
   "file_extension": ".py",
   "mimetype": "text/x-python",
   "name": "python",
   "nbconvert_exporter": "python",
   "pygments_lexer": "ipython3",
   "version": "3.7.3"
  }
 },
 "nbformat": 4,
 "nbformat_minor": 4
}
