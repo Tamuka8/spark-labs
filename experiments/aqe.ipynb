{
 "cells": [
  {
   "cell_type": "markdown",
   "metadata": {},
   "source": [
    "# Lab : Spark AQE\n",
    "\n",
    "Experiment with Spark Adaptive Query Engine\n",
    "\n",
    "Refereces:\n",
    "- http://blog.madhukaraphatak.com/spark-aqe-part-2/\n",
    "- https://databricks.com/blog/2020/05/29/adaptive-query-execution-speeding-up-spark-sql-at-runtime.html\n",
    "- https://docs.databricks.com/spark/latest/spark-sql/aqe.html\n",
    "- https://docs.databricks.com/_static/notebooks/aqe-demo.html\n",
    "- https://spark.apache.org/docs/latest/sql-performance-tuning.html#adaptive-query-execution"
   ]
  },
  {
   "cell_type": "code",
   "execution_count": 1,
   "metadata": {},
   "outputs": [
    {
     "name": "stdout",
     "output_type": "stream",
     "text": [
      "Spark found in :  /home/ubuntu/apps/spark\n",
      "Spark config:\n",
      "\t spark.app.name=TestApp\n",
      "\tspark.master=spark://f96e0987354e:7077\n",
      "\texecutor.memory=2g\n",
      "\tspark.sql.warehouse.dir=/tmp/tmp98ehcraj\n",
      "\tspark.sql.adaptive.enabled=true\n",
      "\tspark.sql.adaptive.coalescePartitions.enabled=true\n",
      "Spark UI running on port 4042\n"
     ]
    }
   ],
   "source": [
    "import findspark\n",
    "findspark.init()  # uses SPARK_HOME\n",
    "print(\"Spark found in : \", findspark.find())\n",
    "\n",
    "import pyspark\n",
    "from pyspark import SparkConf\n",
    "from pyspark.sql import SparkSession\n",
    "\n",
    "\n",
    "\n",
    "# use a unique tmep dir for warehouse dir, so we can run multiple spark sessions in one dir\n",
    "import tempfile\n",
    "tmpdir = tempfile.TemporaryDirectory()\n",
    "\n",
    "config = ( SparkConf()\n",
    "         .setAppName(\"TestApp\")\n",
    "         .setMaster(\"local[*]\")\n",
    "         #.setMaster(\"spark://f96e0987354e:7077\")\n",
    "         .set('executor.memory', '2g')\n",
    "         .set('spark.sql.warehouse.dir', tmpdir.name)\n",
    "         .set('spark.sql.adaptive.enabled', 'true')\n",
    "         .set('spark.sql.adaptive.coalescePartitions.enabled', 'true')\n",
    "         )\n",
    "\n",
    "print(\"Spark config:\\n\\t\", config.toDebugString().replace(\"\\n\", \"\\n\\t\"))\n",
    "spark = SparkSession.builder.config(conf=config).getOrCreate()\n",
    "print('Spark UI running on port ' + spark.sparkContext.uiWebUrl.split(':')[2])"
   ]
  },
  {
   "cell_type": "code",
   "execution_count": 2,
   "metadata": {},
   "outputs": [
    {
     "data": {
      "text/plain": [
       "'true'"
      ]
     },
     "execution_count": 2,
     "metadata": {},
     "output_type": "execute_result"
    }
   ],
   "source": [
    "# check if AQE is enabled\n",
    "spark.conf.get('spark.sql.adaptive.enabled')\n",
    "\n",
    "# spark.conf.set('spark.sql.adaptive.coalescePartitions.minPartitionNum', 1)"
   ]
  },
  {
   "cell_type": "markdown",
   "metadata": {},
   "source": [
    "## AQE"
   ]
  },
  {
   "cell_type": "code",
   "execution_count": 3,
   "metadata": {},
   "outputs": [
    {
     "name": "stdout",
     "output_type": "stream",
     "text": [
      "total 1.4G\n",
      "-rw-r--r-- 1 ubuntu ubuntu 338M Nov  6 19:09 clickstream-2015-01-01.json\n",
      "-rw-r--r-- 1 ubuntu ubuntu 338M Nov  6 19:10 clickstream-2015-01-02.json\n",
      "-rw-r--r-- 1 ubuntu ubuntu 338M Nov  6 19:11 clickstream-2015-01-03.json\n",
      "-rw-r--r-- 1 ubuntu ubuntu 338M Nov  6 19:12 clickstream-2015-01-04.json\n",
      "CPU times: user 8.57 ms, sys: 12.9 ms, total: 21.5 ms\n",
      "Wall time: 2.59 s\n"
     ]
    }
   ],
   "source": [
    "%%time \n",
    "# generate large clickstream data\n",
    "\n",
    "\n",
    "! [ ! -d /data/click-stream/json/ ] && cd /data/click-stream  && python gen-clickstream-json.py \n",
    "\n",
    "! ls -lh  /data/click-stream/json/"
   ]
  },
  {
   "cell_type": "code",
   "execution_count": 4,
   "metadata": {},
   "outputs": [
    {
     "name": "stdout",
     "output_type": "stream",
     "text": [
      "CPU times: user 16.5 ms, sys: 9.04 ms, total: 25.5 ms\n",
      "Wall time: 1min 25s\n"
     ]
    },
    {
     "data": {
      "text/plain": [
       "500"
      ]
     },
     "execution_count": 4,
     "metadata": {},
     "output_type": "execute_result"
    }
   ],
   "source": [
    "%%time\n",
    "\n",
    "# load clickstream json -- this is a large table about 1.4 GB in size\n",
    "clickstream = spark.read.json(\"/data/click-stream/json/\").repartition(500)\n",
    "clickstream.rdd.getNumPartitions()"
   ]
  },
  {
   "cell_type": "code",
   "execution_count": 5,
   "metadata": {},
   "outputs": [],
   "source": [
    "count = clickstream.filter('cost > 100').groupBy('domain').count()"
   ]
  },
  {
   "cell_type": "code",
   "execution_count": 6,
   "metadata": {},
   "outputs": [
    {
     "name": "stdout",
     "output_type": "stream",
     "text": [
      "== Parsed Logical Plan ==\n",
      "'Aggregate ['domain], [unresolvedalias('domain, None), count(1) AS count#40L]\n",
      "+- Filter (cost#9L > cast(100 as bigint))\n",
      "   +- Repartition 500, true\n",
      "      +- Relation[action#7,campaign#8,cost#9L,domain#10,ip#11,session#12,timestamp#13L,user#14] json\n",
      "\n",
      "== Analyzed Logical Plan ==\n",
      "domain: string, count: bigint\n",
      "Aggregate [domain#10], [domain#10, count(1) AS count#40L]\n",
      "+- Filter (cost#9L > cast(100 as bigint))\n",
      "   +- Repartition 500, true\n",
      "      +- Relation[action#7,campaign#8,cost#9L,domain#10,ip#11,session#12,timestamp#13L,user#14] json\n",
      "\n",
      "== Optimized Logical Plan ==\n",
      "Aggregate [domain#10], [domain#10, count(1) AS count#40L]\n",
      "+- Repartition 500, true\n",
      "   +- Project [domain#10]\n",
      "      +- Filter (isnotnull(cost#9L) AND (cost#9L > 100))\n",
      "         +- Relation[action#7,campaign#8,cost#9L,domain#10,ip#11,session#12,timestamp#13L,user#14] json\n",
      "\n",
      "== Physical Plan ==\n",
      "AdaptiveSparkPlan isFinalPlan=false\n",
      "+- HashAggregate(keys=[domain#10], functions=[count(1)], output=[domain#10, count#40L])\n",
      "   +- Exchange hashpartitioning(domain#10, 200), true, [id=#34]\n",
      "      +- HashAggregate(keys=[domain#10], functions=[partial_count(1)], output=[domain#10, count#44L])\n",
      "         +- Exchange RoundRobinPartitioning(500), false, [id=#30]\n",
      "            +- Project [domain#10]\n",
      "               +- Filter (isnotnull(cost#9L) AND (cost#9L > 100))\n",
      "                  +- FileScan json [cost#9L,domain#10] Batched: false, DataFilters: [isnotnull(cost#9L), (cost#9L > 100)], Format: JSON, Location: InMemoryFileIndex[file:/data/click-stream/json], PartitionFilters: [], PushedFilters: [IsNotNull(cost), GreaterThan(cost,100)], ReadSchema: struct<cost:bigint,domain:string>\n",
      "\n"
     ]
    }
   ],
   "source": [
    "count.explain(extended=True)"
   ]
  },
  {
   "cell_type": "code",
   "execution_count": 7,
   "metadata": {},
   "outputs": [
    {
     "name": "stdout",
     "output_type": "stream",
     "text": [
      "+-----------------+------+\n",
      "|           domain| count|\n",
      "+-----------------+------+\n",
      "|      nytimes.com|160021|\n",
      "|      youtube.com|160692|\n",
      "|        zynga.com|161032|\n",
      "|       google.com|160864|\n",
      "|     usatoday.com|160163|\n",
      "|        yahoo.com|160920|\n",
      "|     facebook.com|160479|\n",
      "|          cnn.com|161130|\n",
      "|    wikipedia.org|160861|\n",
      "|        bbc.co.uk|159884|\n",
      "|      foxnews.com|161440|\n",
      "|       sfgate.com|160476|\n",
      "|          npr.org|160417|\n",
      "|         hulu.com|161072|\n",
      "|      twitter.com|160381|\n",
      "|       amazon.com|160824|\n",
      "|   funnyordie.com|161536|\n",
      "|sf.craigslist.org|160693|\n",
      "|       flickr.com|160627|\n",
      "|comedycentral.com|160263|\n",
      "+-----------------+------+\n",
      "\n"
     ]
    }
   ],
   "source": [
    "count.show()"
   ]
  },
  {
   "cell_type": "code",
   "execution_count": 8,
   "metadata": {},
   "outputs": [
    {
     "name": "stdout",
     "output_type": "stream",
     "text": [
      "== Parsed Logical Plan ==\n",
      "'Aggregate ['domain], [unresolvedalias('domain, None), count(1) AS count#40L]\n",
      "+- Filter (cost#9L > cast(100 as bigint))\n",
      "   +- Repartition 500, true\n",
      "      +- Relation[action#7,campaign#8,cost#9L,domain#10,ip#11,session#12,timestamp#13L,user#14] json\n",
      "\n",
      "== Analyzed Logical Plan ==\n",
      "domain: string, count: bigint\n",
      "Aggregate [domain#10], [domain#10, count(1) AS count#40L]\n",
      "+- Filter (cost#9L > cast(100 as bigint))\n",
      "   +- Repartition 500, true\n",
      "      +- Relation[action#7,campaign#8,cost#9L,domain#10,ip#11,session#12,timestamp#13L,user#14] json\n",
      "\n",
      "== Optimized Logical Plan ==\n",
      "Aggregate [domain#10], [domain#10, count(1) AS count#40L]\n",
      "+- Repartition 500, true\n",
      "   +- Project [domain#10]\n",
      "      +- Filter (isnotnull(cost#9L) AND (cost#9L > 100))\n",
      "         +- Relation[action#7,campaign#8,cost#9L,domain#10,ip#11,session#12,timestamp#13L,user#14] json\n",
      "\n",
      "== Physical Plan ==\n",
      "AdaptiveSparkPlan isFinalPlan=false\n",
      "+- HashAggregate(keys=[domain#10], functions=[count(1)], output=[domain#10, count#40L])\n",
      "   +- Exchange hashpartitioning(domain#10, 200), true, [id=#34]\n",
      "      +- HashAggregate(keys=[domain#10], functions=[partial_count(1)], output=[domain#10, count#44L])\n",
      "         +- Exchange RoundRobinPartitioning(500), false, [id=#30]\n",
      "            +- Project [domain#10]\n",
      "               +- Filter (isnotnull(cost#9L) AND (cost#9L > 100))\n",
      "                  +- FileScan json [cost#9L,domain#10] Batched: false, DataFilters: [isnotnull(cost#9L), (cost#9L > 100)], Format: JSON, Location: InMemoryFileIndex[file:/data/click-stream/json], PartitionFilters: [], PushedFilters: [IsNotNull(cost), GreaterThan(cost,100)], ReadSchema: struct<cost:bigint,domain:string>\n",
      "\n"
     ]
    }
   ],
   "source": [
    "count.explain(extended=True)"
   ]
  }
 ],
 "metadata": {
  "kernelspec": {
   "display_name": "Python 3 (ipykernel)",
   "language": "python",
   "name": "python3"
  },
  "language_info": {
   "codemirror_mode": {
    "name": "ipython",
    "version": 3
   },
   "file_extension": ".py",
   "mimetype": "text/x-python",
   "name": "python",
   "nbconvert_exporter": "python",
   "pygments_lexer": "ipython3",
   "version": "3.8.11"
  }
 },
 "nbformat": 4,
 "nbformat_minor": 4
}
