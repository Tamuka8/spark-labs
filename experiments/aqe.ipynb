{
 "cells": [
  {
   "cell_type": "markdown",
   "metadata": {},
   "source": [
    "# Lab : Spark AQE\n",
    "\n",
    "Experiment with Spark Adaptive Query Engine\n",
    "\n",
    "Refereces:\n",
    "- http://blog.madhukaraphatak.com/spark-aqe-part-2/\n",
    "- https://databricks.com/blog/2020/05/29/adaptive-query-execution-speeding-up-spark-sql-at-runtime.html\n",
    "- https://docs.databricks.com/spark/latest/spark-sql/aqe.html\n",
    "- https://docs.databricks.com/_static/notebooks/aqe-demo.html\n",
    "- https://spark.apache.org/docs/latest/sql-performance-tuning.html#adaptive-query-execution"
   ]
  },
  {
   "cell_type": "code",
   "execution_count": null,
   "metadata": {},
   "outputs": [],
   "source": [
    "import findspark\n",
    "findspark.init()  # uses SPARK_HOME\n",
    "print(\"Spark found in : \", findspark.find())\n",
    "\n",
    "import pyspark\n",
    "from pyspark import SparkConf\n",
    "from pyspark.sql import SparkSession\n",
    "\n",
    "\n",
    "\n",
    "# use a unique tmep dir for warehouse dir, so we can run multiple spark sessions in one dir\n",
    "import tempfile\n",
    "tmpdir = tempfile.TemporaryDirectory()\n",
    "\n",
    "config = ( SparkConf()\n",
    "         .setAppName(\"TestApp\")\n",
    "         .setMaster(\"local[*]\")\n",
    "         #.setMaster(\"spark://f96e0987354e:7077\")\n",
    "         .set('executor.memory', '2g')\n",
    "         .set('spark.sql.warehouse.dir', tmpdir.name)\n",
    "         .set('spark.sql.adaptive.enabled', 'true')\n",
    "         .set('spark.sql.adaptive.coalescePartitions.enabled', 'true')\n",
    "         )\n",
    "\n",
    "print(\"Spark config:\\n\\t\", config.toDebugString().replace(\"\\n\", \"\\n\\t\"))\n",
    "spark = SparkSession.builder.config(conf=config).getOrCreate()\n",
    "print('Spark UI running on port ' + spark.sparkContext.uiWebUrl.split(':')[2])"
   ]
  },
  {
   "cell_type": "code",
   "execution_count": null,
   "metadata": {},
   "outputs": [],
   "source": [
    "# check if AQE is enabled\n",
    "spark.conf.get('spark.sql.adaptive.enabled')\n",
    "\n",
    "# spark.conf.set('spark.sql.adaptive.coalescePartitions.minPartitionNum', 1)"
   ]
  },
  {
   "cell_type": "markdown",
   "metadata": {},
   "source": [
    "## AQE"
   ]
  },
  {
   "cell_type": "code",
   "execution_count": null,
   "metadata": {},
   "outputs": [],
   "source": [
    "%%time \n",
    "# generate large clickstream data\n",
    "\n",
    "\n",
    "! [ ! -d /data/click-stream/json/ ] && cd /data/click-stream  && python gen-clickstream-json.py \n",
    "\n",
    "! ls -lh  /data/click-stream/json/"
   ]
  },
  {
   "cell_type": "code",
   "execution_count": null,
   "metadata": {},
   "outputs": [],
   "source": [
    "%%time\n",
    "\n",
    "# load clickstream json -- this is a large table about 1.4 GB in size\n",
    "clickstream = spark.read.json(\"../data/click-stream/json/\").repartition(500)\n",
    "clickstream.rdd.getNumPartitions()"
   ]
  },
  {
   "cell_type": "code",
   "execution_count": null,
   "metadata": {},
   "outputs": [],
   "source": [
    "count = clickstream.filter('cost > 100').groupBy('domain').count()"
   ]
  },
  {
   "cell_type": "code",
   "execution_count": null,
   "metadata": {},
   "outputs": [],
   "source": [
    "count.explain(extended=True)"
   ]
  },
  {
   "cell_type": "code",
   "execution_count": null,
   "metadata": {},
   "outputs": [],
   "source": [
    "count.show()"
   ]
  },
  {
   "cell_type": "code",
   "execution_count": null,
   "metadata": {},
   "outputs": [],
   "source": [
    "count.explain(extended=True)"
   ]
  }
 ],
 "metadata": {
  "kernelspec": {
   "display_name": "Python 3",
   "language": "python",
   "name": "python3"
  },
  "language_info": {
   "codemirror_mode": {
    "name": "ipython",
    "version": 3
   },
   "file_extension": ".py",
   "mimetype": "text/x-python",
   "name": "python",
   "nbconvert_exporter": "python",
   "pygments_lexer": "ipython3",
   "version": "3.8.2"
  }
 },
 "nbformat": 4,
 "nbformat_minor": 4
}
