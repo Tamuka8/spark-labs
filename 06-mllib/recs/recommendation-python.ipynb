{
 "cells": [
  {
   "cell_type": "markdown",
   "metadata": {},
   "source": [
    "Lab : Classification with MLlib\n",
    "===================================\n",
    "\n",
    "### Introduction\n",
    "\n",
    "This lab explores a well known dataset from the Czech dating website libimseti.cz.  We'll just call it the \"dating\" dataset. :)\n",
    "\n",
    "Normally we talk of users and items as different entities, but in dating websites we relate users to one another.\n",
    "\n",
    "In our example, we're going to ignore the gender and orientation of each user in doing the recommendations.   The dating dataset does include a file which identifies the gender of each participant, but for simplicity we're not handling it here. This isn't as bad as it sounds, as most users likely will rate only one gender of dating site participants, and will no doubt receive recommendations from the same gender. Naturally there are always exceptions.\n",
    "\n",
    "The checked in version is a tiny subset of the actual, as only the first 9999 users are included.  Furthermore, the ratings outside the subset are ignored, so a good portion of users have no data."
   ]
  },
  {
   "cell_type": "code",
   "execution_count": null,
   "metadata": {},
   "outputs": [],
   "source": [
    "# initialize Spark Session\n",
    "import os\n",
    "import sys\n",
    "top_dir = os.path.abspath(os.path.join(os.getcwd(), \"../../\"))\n",
    "if top_dir not in sys.path:\n",
    "    sys.path.append(top_dir)\n",
    "\n",
    "from init_spark import init_spark\n",
    "spark = init_spark()\n",
    "sc = spark.sparkContext"
   ]
  },
  {
   "cell_type": "code",
   "execution_count": null,
   "metadata": {},
   "outputs": [],
   "source": [
    "from pyspark.mllib.recommendation import *"
   ]
  },
  {
   "cell_type": "markdown",
   "metadata": {},
   "source": [
    "### Step 1 : Inspect Data\n",
    "* Sample Data : [/data/dating/sample.txt](/data/dating/sample.txt)\n",
    "* Rating data file : [/data/dating/medium/ratings.dat](/data/dating/medium/ratings.dat)\n",
    "\n",
    "(browsers may not display the data properly, open the data in text editor)"
   ]
  },
  {
   "cell_type": "markdown",
   "metadata": {},
   "source": [
    "### Step 2 : Create Rating Object for the Data"
   ]
  },
  {
   "cell_type": "code",
   "execution_count": null,
   "metadata": {},
   "outputs": [],
   "source": [
    "data = sc.textFile(\"../data/dating/medium/ratings.dat\") "
   ]
  },
  {
   "cell_type": "markdown",
   "metadata": {},
   "source": [
    "For the dating website \n",
    "* Users = Users\n",
    "* Products = Other users\n",
    "* Rating = Rating given by one user to anothr user"
   ]
  },
  {
   "cell_type": "code",
   "execution_count": null,
   "metadata": {},
   "outputs": [],
   "source": [
    "splitted_data = data.map(lambda x : x.split(\",\"))\n",
    "#  Rating represents a (user, product, rating) tuple.\n",
    "ratings = splitted_data.map(lambda x : Rating(x[0],x[1],x[2]))\n",
    "# ratings.collect()"
   ]
  },
  {
   "cell_type": "code",
   "execution_count": null,
   "metadata": {},
   "outputs": [],
   "source": [
    "model = ALS.train(ratings, rank = 10, iterations = 5, lambda_= 0.01)"
   ]
  },
  {
   "cell_type": "markdown",
   "metadata": {},
   "source": [
    "### Step 3: Transform the Rating object to a tuple of User, Product"
   ]
  },
  {
   "cell_type": "code",
   "execution_count": null,
   "metadata": {},
   "outputs": [],
   "source": [
    "# Get rid of rating to test model's effectiveness\n",
    "# TODO: TRANSFORM Rating -> Tuple of (user, product)\n",
    "# (i.e., get rid of the rating)\n",
    "userItems = ???"
   ]
  },
  {
   "cell_type": "markdown",
   "metadata": {},
   "source": [
    "### Step 4: Use the predictAll method to map the output to User, Product"
   ]
  },
  {
   "cell_type": "code",
   "execution_count": null,
   "metadata": {},
   "outputs": [],
   "source": [
    "# Do a test prediction\n",
    "# TODO call model.predictAll() on userItems, and then map the output of that \n",
    "# to (user, product), rating\n",
    "predict = ???\n",
    "recs = predict.map(???)"
   ]
  },
  {
   "cell_type": "code",
   "execution_count": null,
   "metadata": {},
   "outputs": [],
   "source": [
    "ratingsAndRecs = ratings.map(lambda x: ((int(x[0]), int(x[1])), int(x[2]))).join(recs)\n",
    "mse = ratingsAndRecs.map(lambda x: (x[1][0] - x[1][1]) * (x[1][0] - x[1][1])).mean()\n",
    "print (mse)"
   ]
  },
  {
   "cell_type": "markdown",
   "metadata": {},
   "source": [
    "### Step 5 : Find recommendations for Users based on ratings"
   ]
  },
  {
   "cell_type": "code",
   "execution_count": null,
   "metadata": {},
   "outputs": [],
   "source": [
    "# recommendProductsForUsers will give recommendations for all users in an arrray\n",
    "# Number of recommendations needed should be provided as arguments\n",
    "recsForEachUser = model.recommendProductsForUsers(4)\n",
    "recsForEachUser.collect()"
   ]
  },
  {
   "cell_type": "code",
   "execution_count": null,
   "metadata": {},
   "outputs": [],
   "source": [
    "# recommendProducts will give recommendations for the particular user\n",
    "# parameters : (User, NumberOfRecommemdationsNeeded\n",
    "recsForEachUser = model.recommendProducts(892, 4)\n",
    "print (recsForEachUser)\n",
    "\n",
    "# Beware: some numbers aren't represented (e.g. 3)"
   ]
  },
  {
   "cell_type": "markdown",
   "metadata": {},
   "source": [
    "### Step 6: Running on some of your own data\n",
    "\n",
    "Create a file called personalratings.txt.  Include some test data as preferences.\n",
    "We have included a file /data/dating/sample.txt for you.\n",
    "you can refer to it.\n",
    "    "
   ]
  },
  {
   "cell_type": "code",
   "execution_count": 3,
   "metadata": {},
   "outputs": [],
   "source": [
    "#### Sample Output:\n",
    "# model.recommendProducts(4, 2)\n",
    "# [Rating(user=4, product=7, rating=7.997956670993958), Rating(user=4, product=6, rating=5.9996782303607565), Rating(user=4, product=5, rating=4.757658554726618)]"
   ]
  },
  {
   "cell_type": "code",
   "execution_count": null,
   "metadata": {},
   "outputs": [],
   "source": []
  }
 ],
 "metadata": {
  "kernelspec": {
   "display_name": "Python 3",
   "language": "python",
   "name": "python3"
  },
  "language_info": {
   "codemirror_mode": {
    "name": "ipython",
    "version": 3
   },
   "file_extension": ".py",
   "mimetype": "text/x-python",
   "name": "python",
   "nbconvert_exporter": "python",
   "pygments_lexer": "ipython3",
   "version": "3.6.8"
  }
 },
 "nbformat": 4,
 "nbformat_minor": 2
}
