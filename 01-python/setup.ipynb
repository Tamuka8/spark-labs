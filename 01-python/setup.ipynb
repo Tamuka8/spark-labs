{
 "cells": [
  {
   "cell_type": "markdown",
   "metadata": {},
   "source": [
    "# Setting up Spark environment on Elephant Scale Sandbox VM\n",
    "\n",
    "## Step 1 : Login to the VM\n",
    "Instructor will provide details\n",
    "\n",
    "## Install Spark\n",
    "\n",
    "```bash\n",
    "    $   cd\n",
    "    $   rm -rf  spark   # cleanup existing spark installation (if any)\n",
    "    $   tar xvf   files/spark-2.2.0-bin-hadoop2.7.tgz\n",
    "    $   mv  spark-2.2.0-bin-hadoop2.7    spark\n",
    "```\n",
    "\n",
    "## Get the labs\n",
    "\n",
    "```bash\n",
    "    $ git clone --depth 1  https://github.com/elephantscale/spark-workshop \n",
    "```\n",
    "\n",
    "\n",
    "\n",
    "## Start Jupyter\n",
    "\n",
    "```bash\n",
    "    $   cd spark-workshop\n",
    "    $   ./run-jupyter.sh\n",
    "```\n",
    "\n",
    "Access Jupyter notebook link from the browser."
   ]
  }
 ],
 "metadata": {
  "kernelspec": {
   "display_name": "Python 3",
   "language": "python",
   "name": "python3"
  },
  "language_info": {
   "codemirror_mode": {
    "name": "ipython",
    "version": 3
   },
   "file_extension": ".py",
   "mimetype": "text/x-python",
   "name": "python",
   "nbconvert_exporter": "python",
   "pygments_lexer": "ipython3",
   "version": "3.6.1"
  }
 },
 "nbformat": 4,
 "nbformat_minor": 2
}
